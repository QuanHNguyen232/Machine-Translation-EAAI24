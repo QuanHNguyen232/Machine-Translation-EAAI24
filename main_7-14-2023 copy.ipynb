{
  "cells": [
    {
      "cell_type": "markdown",
      "metadata": {
        "id": "nWTuUBqTv-Nv"
      },
      "source": [
        "# Start"
      ]
    },
    {
      "cell_type": "markdown",
      "metadata": {
        "id": "FCN31jhjnCzZ"
      },
      "source": [
        "NEW TASKS:\n",
        "* [X] Seq2Seq: sort by src_len and unsort output --> ensure output matches with trg\n",
        "* [X] Pivot model: ensure it works for $n$ seq2seq models\n",
        "* [ ] Triang model: ensure outputs from all submodels match"
      ]
    },
    {
      "cell_type": "code",
      "execution_count": null,
      "metadata": {
        "id": "yTMYDLiGey7D"
      },
      "outputs": [],
      "source": [
        "# piv_endefr_74kset_2.pt using PivotModel in bentrevett/pytorch-seq2seq-OLD.ipynb"
      ]
    },
    {
      "cell_type": "code",
      "execution_count": null,
      "metadata": {
        "id": "V6P0jGmKybf3"
      },
      "outputs": [],
      "source": [
        "# https://github.com/bentrevett/pytorch-seq2seq/blob/master/4%20-%20Packed%20Padded%20Sequences%2C%20Masking%2C%20Inference%20and%20BLEU.ipynb\n",
        "# based on https://gmihaila.github.io/tutorial_notebooks/pytorchtext_bucketiterator/#dataset-class"
      ]
    },
    {
      "cell_type": "code",
      "execution_count": 1,
      "metadata": {
        "id": "bktHQ8XCnDIb"
      },
      "outputs": [],
      "source": [
        "piv_langs = ['es', 'it', 'pt', 'ro']\n",
        "langs = ['en', 'fr']\n",
        "DIR_PATH = './data/'"
      ]
    },
    {
      "cell_type": "markdown",
      "metadata": {
        "id": "DEdOoJ93e008"
      },
      "source": [
        "# Setup"
      ]
    },
    {
      "cell_type": "code",
      "execution_count": 2,
      "metadata": {
        "colab": {
          "base_uri": "https://localhost:8080/"
        },
        "id": "HOnOF0x_PM0F",
        "outputId": "c9762888-d5d5-4e02-b1c5-89fa03fd9e66"
      },
      "outputs": [],
      "source": [
        "# from google.colab import drive\n",
        "# drive.mount('/content/gdrive')"
      ]
    },
    {
      "cell_type": "code",
      "execution_count": 3,
      "metadata": {
        "colab": {
          "base_uri": "https://localhost:8080/"
        },
        "id": "SA0jFbKHbfHP",
        "outputId": "6ba67d41-d226-4a50-f2e3-93194d4f3da8"
      },
      "outputs": [],
      "source": [
        "# !pip3 install torch==1.8.2 torchvision==0.9.2 torchaudio==0.8.2 --extra-index-url https://download.pytorch.org/whl/lts/1.8/cu111 -q"
      ]
    },
    {
      "cell_type": "code",
      "execution_count": 2,
      "metadata": {
        "colab": {
          "base_uri": "https://localhost:8080/"
        },
        "id": "1754nP4obkXv",
        "outputId": "46ea9f8f-1a6e-40b9-b8e9-46fe3f8dfd32"
      },
      "outputs": [
        {
          "name": "stdout",
          "output_type": "stream",
          "text": [
            "1.8.2+cu111\n"
          ]
        },
        {
          "name": "stderr",
          "output_type": "stream",
          "text": [
            "c:\\Users\\QuanNguyen\\anaconda3\\envs\\eaai_py38\\lib\\site-packages\\tqdm\\auto.py:21: TqdmWarning: IProgress not found. Please update jupyter and ipywidgets. See https://ipywidgets.readthedocs.io/en/stable/user_install.html\n",
            "  from .autonotebook import tqdm as notebook_tqdm\n"
          ]
        }
      ],
      "source": [
        "import torch\n",
        "print(torch.__version__)"
      ]
    },
    {
      "cell_type": "code",
      "execution_count": 3,
      "metadata": {
        "colab": {
          "base_uri": "https://localhost:8080/"
        },
        "id": "YMlSEzldbP3q",
        "outputId": "ccc2467e-0efe-48cf-e420-2df790c48d8b"
      },
      "outputs": [
        {
          "name": "stdout",
          "output_type": "stream",
          "text": [
            "0.9.0\n"
          ]
        }
      ],
      "source": [
        "# !pip install torchtext==0.9 -q\n",
        "import torchtext\n",
        "print(torchtext.__version__)"
      ]
    },
    {
      "cell_type": "code",
      "execution_count": 8,
      "metadata": {
        "colab": {
          "base_uri": "https://localhost:8080/"
        },
        "id": "dw6ZjirTbTE8",
        "outputId": "2a6241d5-46ea-4092-be78-8675cc98c6c5"
      },
      "outputs": [],
      "source": [
        "# if 'en' in langs:\n",
        "#   !python -m spacy download en_core_web_sm -q\n",
        "# if 'de' in langs:\n",
        "#   !python -m spacy download de_core_news_sm -q\n",
        "# if 'fr' in langs:\n",
        "#   !python -m spacy download fr_core_news_sm -q\n",
        "# if 'it' in langs:\n",
        "#   !python -m spacy download it_core_news_sm -q\n",
        "# if 'es' in langs:\n",
        "#   !python -m spacy download es_core_news_sm -q\n",
        "# if 'pt' in langs:\n",
        "#   !python -m spacy download pt_core_news_sm -q\n",
        "# if 'ro' in langs:\n",
        "#   !python -m spacy download ro_core_news_sm -q"
      ]
    },
    {
      "cell_type": "code",
      "execution_count": 4,
      "metadata": {
        "id": "6N_lgaPWd4AX"
      },
      "outputs": [],
      "source": [
        "import torch\n",
        "import torch.nn as nn\n",
        "import torch.optim as optim\n",
        "import torch.nn.functional as F\n",
        "\n",
        "from torchtext.legacy.data import Field, BucketIterator\n",
        "from torchtext.legacy.data import Dataset, Example\n",
        "from torchtext.data.metrics import bleu_score\n",
        "\n",
        "import matplotlib.pyplot as plt\n",
        "import matplotlib.ticker as ticker\n",
        "\n",
        "import spacy\n",
        "import numpy as np\n",
        "\n",
        "import random\n",
        "import math\n",
        "import time\n",
        "import pickle\n",
        "from tqdm import tqdm"
      ]
    },
    {
      "cell_type": "markdown",
      "metadata": {
        "id": "IZIH_L_HeyEJ"
      },
      "source": [
        "# My Section"
      ]
    },
    {
      "cell_type": "markdown",
      "metadata": {
        "id": "f_Qg27JlTHS1"
      },
      "source": [
        "## Setup"
      ]
    },
    {
      "cell_type": "code",
      "execution_count": 5,
      "metadata": {
        "id": "aXSlRvZqPRqU"
      },
      "outputs": [],
      "source": [
        "FIELD_DICT = {}\n",
        "if 'en' in langs:\n",
        "  spacy_en = spacy.load('en_core_web_sm')\n",
        "  def tokenize_en(text):\n",
        "    return [tok.text for tok in spacy_en.tokenizer(text)]\n",
        "  EN_FIELD = Field(tokenize = tokenize_en, init_token = '<sos>', eos_token = '<eos>', lower = True, include_lengths = True)\n",
        "  FIELD_DICT['en'] = EN_FIELD\n",
        "if 'de' in langs:\n",
        "  spacy_de = spacy.load('de_core_news_sm')\n",
        "  def tokenize_de(text):\n",
        "    return [tok.text for tok in spacy_de.tokenizer(text)]\n",
        "  DE_FIELD = Field(tokenize = tokenize_de, init_token = '<sos>', eos_token = '<eos>', lower = True, include_lengths = True)\n",
        "  FIELD_DICT['de'] = DE_FIELD\n",
        "if 'fr' in langs:\n",
        "  spacy_fr = spacy.load('fr_core_news_sm')\n",
        "  def tokenize_fr(text):\n",
        "    return [tok.text for tok in spacy_fr.tokenizer(text)]\n",
        "  FR_FIELD = Field(tokenize = tokenize_fr, init_token = '<sos>', eos_token = '<eos>', lower = True, include_lengths = True)\n",
        "  FIELD_DICT['fr'] = FR_FIELD\n",
        "if 'it' in langs:\n",
        "  spacy_it = spacy.load('it_core_news_sm')\n",
        "  def tokenize_it(text):\n",
        "    return [tok.text for tok in spacy_it.tokenizer(text)]\n",
        "  IT_FIELD = Field(tokenize = tokenize_it, init_token = '<sos>', eos_token = '<eos>', lower = True, include_lengths = True)\n",
        "  FIELD_DICT['it'] = IT_FIELD\n",
        "if 'es' in langs:\n",
        "  spacy_es = spacy.load('es_core_news_sm')\n",
        "  def tokenize_es(text):\n",
        "    return [tok.text for tok in spacy_es.tokenizer(text)]\n",
        "  ES_FIELD = Field(tokenize = tokenize_es, init_token = '<sos>', eos_token = '<eos>', lower = True, include_lengths = True)\n",
        "  FIELD_DICT['es'] = ES_FIELD\n",
        "if 'pt' in langs:\n",
        "  spacy_pt = spacy.load('pt_core_news_sm')\n",
        "  def tokenize_pt(text):\n",
        "    return [tok.text for tok in spacy_pt.tokenizer(text)]\n",
        "  PT_FIELD = Field(tokenize = tokenize_pt, init_token = '<sos>', eos_token = '<eos>', lower = True, include_lengths = True)\n",
        "  FIELD_DICT['pt'] = PT_FIELD\n",
        "if 'ro' in langs:\n",
        "  spacy_ro = spacy.load('ro_core_news_sm')\n",
        "  def tokenize_ro(text):\n",
        "    return [tok.text for tok in spacy_ro.tokenizer(text)]\n",
        "  RO_FIELD = Field(tokenize = tokenize_ro, init_token = '<sos>', eos_token = '<eos>', lower = True, include_lengths = True)\n",
        "  FIELD_DICT['ro'] = RO_FIELD"
      ]
    },
    {
      "cell_type": "markdown",
      "metadata": {
        "id": "jopehmrVTRSm"
      },
      "source": [
        "## Data"
      ]
    },
    {
      "cell_type": "code",
      "execution_count": 6,
      "metadata": {
        "colab": {
          "base_uri": "https://localhost:8080/"
        },
        "id": "T5DlQGmUoKoF",
        "outputId": "43d37df8-f0c2-45bc-b804-384329bce9f2"
      },
      "outputs": [
        {
          "name": "stdout",
          "output_type": "stream",
          "text": [
            "64000 67200 73600\n"
          ]
        }
      ],
      "source": [
        "BATCH_SIZE = 32\n",
        "\n",
        "train_len = 64000\n",
        "valid_len = 3200\n",
        "test_len = 6400\n",
        "\n",
        "train_pt = train_len\n",
        "valid_pt = train_pt + valid_len\n",
        "test_pt = valid_pt + test_len\n",
        "\n",
        "print(train_pt, valid_pt, test_pt)"
      ]
    },
    {
      "cell_type": "code",
      "execution_count": null,
      "metadata": {
        "id": "lqFlyKPUq1Bp"
      },
      "outputs": [],
      "source": [
        "# https://discuss.pytorch.org/t/how-to-save-and-load-torchtext-data-field-build-vocab-result/50407/3\n",
        "def save_vocab(vocab, path):\n",
        "  with open(path, 'w+', encoding='utf-8') as f:\n",
        "    for token, index in vocab.stoi.items():\n",
        "      f.write(f'{index}\\t{token}\\n')\n",
        "def read_vocab(path):\n",
        "  vocab = dict()\n",
        "  with open(path, 'r', encoding='utf-8') as f:\n",
        "    for line in f:\n",
        "      index, token = line.split('\\t')\n",
        "      vocab[token] = int(index)\n",
        "  return vocab"
      ]
    },
    {
      "cell_type": "code",
      "execution_count": null,
      "metadata": {
        "id": "pHT8AUMJe7PF"
      },
      "outputs": [],
      "source": [
        "# with open('/content/gdrive/MyDrive/Colab Notebooks/eaai24/Datasets/endefr_75kpairs_2k5-freq-words.pkl', 'rb') as f:\n",
        "# with open('/content/gdrive/MyDrive/Colab Notebooks/eaai24/Datasets/enfr_160kpairs_2k5-freq-words.pkl', 'rb') as f:\n",
        "#   data = pickle.load(f)\n",
        "# data[80], len(data)"
      ]
    },
    {
      "cell_type": "code",
      "execution_count": null,
      "metadata": {
        "id": "0jNRBlIUzV_A"
      },
      "outputs": [],
      "source": [
        "# EnDeFrItEsPtRo-60k-most10k-1.pkl is most suitable. Each lang has ~5-7k words\n",
        "# EnDeFrItEsPtRo-76k-most5k.pkl: each lang has 6->12k words (too much. use this in the future)"
      ]
    },
    {
      "cell_type": "code",
      "execution_count": 7,
      "metadata": {
        "colab": {
          "base_uri": "https://localhost:8080/"
        },
        "id": "g8r6JHsEXCDI",
        "outputId": "91e3c469-1a4b-422d-d9b9-0af2e6b8146e"
      },
      "outputs": [
        {
          "data": {
            "text/plain": [
              "({'en': 'What is the result?',\n",
              "  'de': 'Und wie sehen die Ergebnisse aus?',\n",
              "  'fr': 'Quelle en est la conséquence ?',\n",
              "  'it': 'Quali sono i risultati?',\n",
              "  'es': '¿Cuáles son los resultados?',\n",
              "  'pt': 'Quais são os resultados?',\n",
              "  'ro': 'Care este rezultatul?'},\n",
              " 76245)"
            ]
          },
          "execution_count": 7,
          "metadata": {},
          "output_type": "execute_result"
        }
      ],
      "source": [
        "dataname = 'EnDeFrItEsPtRo-76k-most5k.pkl'\n",
        "with open(f'{DIR_PATH}/{dataname}', 'rb') as f:\n",
        "  data = pickle.load(f)\n",
        "data[8], len(data)"
      ]
    },
    {
      "cell_type": "code",
      "execution_count": 8,
      "metadata": {
        "id": "cyFzD7FQfHBC"
      },
      "outputs": [],
      "source": [
        "# data_set = [[pair['en'], pair['it'], pair['fr']] for pair in data]\n",
        "# FIELDS = [('en', EN_FIELD), ('it', IT_FIELD), ('fr', FR_FIELD)]\n",
        "data_set = [[pair[lang] for lang in langs] for pair in data]\n",
        "FIELDS = [(lang, FIELD_DICT[lang]) for lang in langs]\n",
        "train_examples = list(map(lambda x: Example.fromlist(list(x), fields=FIELDS), data_set[: train_pt]))\n",
        "valid_examples = list(map(lambda x: Example.fromlist(list(x), fields=FIELDS), data_set[train_pt : valid_pt]))\n",
        "test_examples = list(map(lambda x: Example.fromlist(list(x), fields=FIELDS), data_set[valid_pt : test_pt]))"
      ]
    },
    {
      "cell_type": "code",
      "execution_count": 9,
      "metadata": {
        "id": "Mron6AMwfH6y"
      },
      "outputs": [],
      "source": [
        "train_dt = Dataset(train_examples, fields=FIELDS)\n",
        "valid_dt = Dataset(valid_examples, fields=FIELDS)\n",
        "test_dt = Dataset(test_examples, fields=FIELDS)"
      ]
    },
    {
      "cell_type": "code",
      "execution_count": 10,
      "metadata": {
        "colab": {
          "base_uri": "https://localhost:8080/"
        },
        "id": "KYY067rbwZGN",
        "outputId": "8d936cc8-d06d-4eb6-a4f9-afdc63430ad1"
      },
      "outputs": [
        {
          "name": "stdout",
          "output_type": "stream",
          "text": [
            "en: 6964\n",
            "fr: 9703\n"
          ]
        }
      ],
      "source": [
        "# EN_FIELD.build_vocab(train_dt, min_freq = 2)\n",
        "# IT_FIELD.build_vocab(train_dt, min_freq = 2)\n",
        "# FR_FIELD.build_vocab(train_dt, min_freq = 2)\n",
        "# len(EN_FIELD.vocab), len(IT_FIELD.vocab), len(FR_FIELD.vocab)\n",
        "for lang in langs:\n",
        "  FIELD_DICT[lang].build_vocab(train_dt, min_freq = 2)\n",
        "  print(f'{lang}: {len(FIELD_DICT[lang].vocab)}')"
      ]
    },
    {
      "cell_type": "code",
      "execution_count": null,
      "metadata": {
        "id": "_IpSjObrOs8a"
      },
      "outputs": [],
      "source": [
        "# save_vocab(EN_FIELD.vocab, f'{DIR_PATH}/Datasets/EnDeFrItEsPtRo-76k-most5k-en_vocab.txt')\n",
        "# EN_FIELD.vocab = read_vocab(f'{DIR_PATH}/Datasets/EnDeFrItEsPtRo-76k-most5k-en_vocab.txt')\n",
        "# FR_FIELD.vocab = read_vocab(f'{DIR_PATH}/Datasets/EnDeFrItEsPtRo-76k-most5k-fr_vocab.txt')"
      ]
    },
    {
      "cell_type": "code",
      "execution_count": 11,
      "metadata": {
        "id": "9ZrebZgnkiuF"
      },
      "outputs": [
        {
          "data": {
            "text/plain": [
              "(2000, 100, 200)"
            ]
          },
          "execution_count": 11,
          "metadata": {},
          "output_type": "execute_result"
        }
      ],
      "source": [
        "device = torch.device('cuda' if torch.cuda.is_available() else 'cpu')\n",
        "\n",
        "train_iterator, valid_iterator, test_iterator = BucketIterator.splits(\n",
        "    (train_dt, valid_dt, test_dt),\n",
        "     batch_size = 32,\n",
        "     sort_within_batch = True,\n",
        "     sort_key = lambda x : len(x.en),\n",
        "     device = device)\n",
        "len(train_iterator), len(valid_iterator), len(test_iterator)"
      ]
    },
    {
      "cell_type": "code",
      "execution_count": 12,
      "metadata": {
        "id": "XxntiGWVlA4G"
      },
      "outputs": [
        {
          "name": "stdout",
          "output_type": "stream",
          "text": [
            "torch.Size([41, 32]) tensor([41, 41, 41, 41, 41, 41, 41, 41, 41, 41, 41, 41, 41, 41, 41, 40, 40, 40,\n",
            "        40, 40, 40, 40, 40, 40, 40, 40, 40, 40, 40, 40, 40, 40],\n",
            "       device='cuda:0')\n",
            "torch.Size([55, 32]) tensor([52, 49, 44, 35, 54, 51, 41, 49, 39, 41, 50, 52, 45, 39, 44, 38, 39, 45,\n",
            "        44, 36, 44, 43, 39, 34, 35, 46, 37, 41, 55, 48, 38, 39],\n",
            "       device='cuda:0')\n",
            "dict_keys(['en', 'fr'])\n",
            "\n",
            "[torchtext.legacy.data.batch.Batch of size 32]\n",
            "\t[.en]:('[torch.cuda.LongTensor of size 41x32 (GPU 0)]', '[torch.cuda.LongTensor of size 32 (GPU 0)]')\n",
            "\t[.fr]:('[torch.cuda.LongTensor of size 55x32 (GPU 0)]', '[torch.cuda.LongTensor of size 32 (GPU 0)]')\n"
          ]
        }
      ],
      "source": [
        "for i, batch in enumerate(train_iterator):\n",
        "  break\n",
        "print(batch.en[0].shape, batch.en[1])\n",
        "print(batch.fr[0].shape, batch.fr[1])\n",
        "print(batch.fields)\n",
        "print(batch)"
      ]
    },
    {
      "cell_type": "code",
      "execution_count": 13,
      "metadata": {
        "id": "oVWvSXCMjojs"
      },
      "outputs": [
        {
          "name": "stdout",
          "output_type": "stream",
          "text": [
            "torch.Size([41, 32]) tensor([41, 41, 41, 41, 41, 41, 41, 41, 41, 41, 41, 41, 41, 41, 41, 40, 40, 40,\n",
            "        40, 40, 40, 40, 40, 40, 40, 40, 40, 40, 40, 40, 40, 40],\n",
            "       device='cuda:0')\n",
            "torch.Size([55, 32]) tensor([52, 49, 44, 35, 54, 51, 41, 49, 39, 41, 50, 52, 45, 39, 44, 38, 39, 45,\n",
            "        44, 36, 44, 43, 39, 34, 35, 46, 37, 41, 55, 48, 38, 39],\n",
            "       device='cuda:0')\n"
          ]
        }
      ],
      "source": [
        "print(vars(batch)['en'][0].shape, vars(batch)['en'][1])\n",
        "print(vars(batch)['fr'][0].shape, vars(batch)['fr'][1])"
      ]
    },
    {
      "cell_type": "code",
      "execution_count": 14,
      "metadata": {
        "id": "m7IO5L0nvEeM"
      },
      "outputs": [
        {
          "name": "stdout",
          "output_type": "stream",
          "text": [
            "2 10 12 429 5 20 3592 13 476 181 517 4 371 128 224 195 5 4 1818 7 4 47 8 44 869 5 377 9 1121 271 5 9 4 604 7 65 49 119 145 6 3 \n",
            "<sos> in that context , it holds a key role regarding the fight against climate change , the transition of the eu to an efficient , sustainable and competitive economy , and the strengthening of europe 's energy security . <eos>\n",
            "<sos> dans ce contexte , elle joue un rôle de premier plan dans la lutte contre le changement climatique , dans la transition de l' ue vers une économie utilisant efficacement les ressources , durable et compétitive , ainsi que dans le renforcement de la sécurité énergétique de l' europe . <eos> <pad> <pad> <pad>\n"
          ]
        }
      ],
      "source": [
        "src_sent, piv_sent, trg_sent = [], [], []\n",
        "for i in batch.en[0][: , 0]:\n",
        "  src_sent.append(EN_FIELD.vocab.itos[i])\n",
        "  print(i.item(), end=' ')\n",
        "print()\n",
        "for i in batch.fr[0][:, 0]:\n",
        "  trg_sent.append(FR_FIELD.vocab.itos[i])\n",
        "print(' '.join(src_sent))\n",
        "print(' '.join(trg_sent))"
      ]
    },
    {
      "cell_type": "code",
      "execution_count": 20,
      "metadata": {},
      "outputs": [
        {
          "name": "stdout",
          "output_type": "stream",
          "text": [
            "<unk> 0\n",
            "<pad> 1\n",
            "<sos> 2\n",
            "<eos> 3\n",
            "out of vocab 0\n"
          ]
        },
        {
          "data": {
            "text/plain": [
              "'yes'"
            ]
          },
          "execution_count": 20,
          "metadata": {},
          "output_type": "execute_result"
        }
      ],
      "source": [
        "for tok in [EN_FIELD.unk_token, EN_FIELD.pad_token, EN_FIELD.init_token, EN_FIELD.eos_token]:\n",
        "    print(tok, EN_FIELD.vocab.stoi[tok])\n",
        "print('out of vocab', EN_FIELD.vocab.stoi['asodjosjad'])\n",
        "i = 661\n",
        "EN_FIELD.vocab.itos[i]"
      ]
    },
    {
      "cell_type": "code",
      "execution_count": 40,
      "metadata": {
        "id": "-XROmZP0olgb"
      },
      "outputs": [
        {
          "name": "stdout",
          "output_type": "stream",
          "text": [
            "['<unk>', '<pad>', '<sos>', '<eos>', 'the', ',', '.', 'of', 'to', 'and', 'in', 'is', 'that', 'a', 'i', 'this', 'for', 'we', 'on', 'european', 'it', '(', ')', 'be', 'have']\n",
            "['<unk>', '<pad>', '<sos>', '<eos>', 'de', ',', '.', 'la', 'le', \"l'\", 'et', 'à', 'les', 'des', 'que', 'en', 'est', \"d'\", 'nous', 'pour', 'du', 'je', 'une', 'dans', 'un']\n"
          ]
        }
      ],
      "source": [
        "z = 25\n",
        "print([EN_FIELD.vocab.itos[i] for i in range(z)])\n",
        "print([FR_FIELD.vocab.itos[i] for i in range(z)])"
      ]
    },
    {
      "cell_type": "markdown",
      "metadata": {
        "id": "3Cp4hrsvTlPy"
      },
      "source": [
        "## Model"
      ]
    },
    {
      "cell_type": "markdown",
      "metadata": {},
      "source": [
        "The correct implementation of that [paper](https://arxiv.org/pdf/1409.0473.pdf) should be like this: [repo](https://github.com/graykode/nlp-tutorial#4-attention-mechanism) - [colab](https://colab.research.google.com/github/graykode/nlp-tutorial/blob/master/4-2.Seq2Seq(Attention)/Seq2Seq(Attention).ipynb). My method is a bit different, actually it is implemented based on [Luong et. al.](https://arxiv.org/pdf/1508.04025.pdf) with Global Attention using concat method ([implement in tf](https://github.com/philipperemy/keras-attention/blob/master/attention/attention.py))."
      ]
    },
    {
      "cell_type": "markdown",
      "metadata": {
        "id": "limqRnayUnj5"
      },
      "source": [
        "### Encoder"
      ]
    },
    {
      "cell_type": "code",
      "execution_count": null,
      "metadata": {
        "id": "kYO9-yg4UpEo"
      },
      "outputs": [],
      "source": [
        "class Encoder(nn.Module):\n",
        "  def __init__(self, input_dim, emb_dim, enc_hid_dim, dec_hid_dim, dropout):\n",
        "    super().__init__()\n",
        "    self.embedding = nn.Embedding(input_dim, emb_dim)\n",
        "    self.rnn = nn.GRU(emb_dim, enc_hid_dim, bidirectional = True)\n",
        "    self.fc = nn.Linear(enc_hid_dim * 2, dec_hid_dim)\n",
        "    self.dropout = nn.Dropout(dropout)\n",
        "\n",
        "  def forward(self, src, src_len):\n",
        "    #src = [src len, batch size]\n",
        "    #src_len = [batch size]\n",
        "    embedded = self.dropout(self.embedding(src))  #embedded = [src len, batch size, emb dim]\n",
        "\n",
        "    #need to explicitly put lengths on cpu!\n",
        "    packed_embedded = nn.utils.rnn.pack_padded_sequence(embedded, src_len.to('cpu'))\n",
        "\n",
        "    #  when the input is a pad token are all zeros\n",
        "    packed_outputs, hidden = self.rnn(packed_embedded)\n",
        "    #packed_outputs is a packed sequence containing all hidden states\n",
        "    #hidden is now from the final non-padded element in the batch\n",
        "\n",
        "    outputs, len_list = nn.utils.rnn.pad_packed_sequence(packed_outputs) #outputs is now a non-packed sequence, all hidden states obtained\n",
        "    #  when the input is a pad token are all zeros\n",
        "\n",
        "    #outputs = [src len, batch size, hid dim * num directions]\n",
        "    #hidden = [n layers * num directions, batch size, hid dim]\n",
        "\n",
        "    #hidden is stacked [forward_1, backward_1, forward_2, backward_2, ...]\n",
        "    #outputs are always from the last layer\n",
        "\n",
        "    #hidden [-2, :, : ] is the last of the forwards RNN\n",
        "    #hidden [-1, :, : ] is the last of the backwards RNN\n",
        "\n",
        "    #initial decoder hidden is final hidden state of the forwards and backwards\n",
        "    #  encoder RNNs fed through a linear layer\n",
        "    hidden = torch.tanh(self.fc(torch.cat((hidden[-2,:,:], hidden[-1,:,:]), dim = 1)))\n",
        "\n",
        "    #outputs = [src len, batch size, enc hid dim * 2]\n",
        "    #hidden = [batch size, dec hid dim]\n",
        "    return outputs, hidden"
      ]
    },
    {
      "cell_type": "markdown",
      "metadata": {
        "id": "vJm8VpgbUsbK"
      },
      "source": [
        "### Attn"
      ]
    },
    {
      "cell_type": "code",
      "execution_count": null,
      "metadata": {
        "id": "hthEkeIXU1lp"
      },
      "outputs": [],
      "source": [
        "class Attention(nn.Module):\n",
        "  def __init__(self, enc_hid_dim, dec_hid_dim):\n",
        "    super().__init__()\n",
        "    self.attn = nn.Linear((enc_hid_dim * 2) + dec_hid_dim, dec_hid_dim)\n",
        "    self.v = nn.Linear(dec_hid_dim, 1, bias = False)\n",
        "\n",
        "  def forward(self, hidden, encoder_outputs, mask):\n",
        "    #hidden = [batch size, dec hid dim]\n",
        "    #encoder_outputs = [src len, batch size, enc hid dim * 2]\n",
        "    batch_size = encoder_outputs.shape[1]\n",
        "    src_len = encoder_outputs.shape[0]\n",
        "\n",
        "    #repeat decoder hidden state src_len times\n",
        "    hidden = hidden.unsqueeze(1).repeat(1, src_len, 1)  #hidden = [batch size, src len, dec hid dim]\n",
        "    encoder_outputs = encoder_outputs.permute(1, 0, 2)  #encoder_outputs = [batch size, src len, enc hid dim * 2]\n",
        "    energy = torch.tanh(self.attn(torch.cat((hidden, encoder_outputs), dim = 2))) #energy = [batch size, src len, dec hid dim]\n",
        "\n",
        "    attention = self.v(energy).squeeze(2) #attention = [batch size, src len]\n",
        "    attention = attention.masked_fill(mask == 0, -1e10)\n",
        "    return F.softmax(attention, dim = 1)"
      ]
    },
    {
      "cell_type": "markdown",
      "metadata": {
        "id": "7M3M0cKNUsfb"
      },
      "source": [
        "### Decoder"
      ]
    },
    {
      "cell_type": "code",
      "execution_count": null,
      "metadata": {
        "id": "JVIADpjwU48J"
      },
      "outputs": [],
      "source": [
        "class Decoder(nn.Module):\n",
        "  def __init__(self, output_dim, emb_dim, enc_hid_dim, dec_hid_dim, dropout, attention):\n",
        "    super().__init__()\n",
        "    self.output_dim = output_dim\n",
        "    self.attention = attention\n",
        "    self.embedding = nn.Embedding(output_dim, emb_dim)\n",
        "    self.rnn = nn.GRU((enc_hid_dim * 2) + emb_dim, dec_hid_dim)\n",
        "    self.fc_out = nn.Linear((enc_hid_dim * 2) + dec_hid_dim + emb_dim, output_dim)\n",
        "    self.dropout = nn.Dropout(dropout)\n",
        "\n",
        "  def forward(self, input, hidden, encoder_outputs, mask):\n",
        "    #input = [batch size]\n",
        "    #hidden = [batch size, dec hid dim]\n",
        "    #encoder_outputs = [src len, batch size, enc hid dim * 2]\n",
        "    #mask = [batch size, src len]\n",
        "    input = input.unsqueeze(0)  #input = [1, batch size]\n",
        "    embedded = self.dropout(self.embedding(input))  #embedded = [1, batch size, emb dim]\n",
        "\n",
        "    a = self.attention(hidden, encoder_outputs, mask) #a = [batch size, src len]\n",
        "    a = a.unsqueeze(1)  #a = [batch size, 1, src len]\n",
        "\n",
        "    encoder_outputs = encoder_outputs.permute(1, 0, 2)  #encoder_outputs = [batch size, src len, enc hid dim * 2]\n",
        "\n",
        "    weighted = torch.bmm(a, encoder_outputs)  #weighted = [batch size, 1, enc hid dim * 2]\n",
        "    weighted = weighted.permute(1, 0, 2)  #weighted = [1, batch size, enc hid dim * 2]\n",
        "\n",
        "    rnn_input = torch.cat((embedded, weighted), dim = 2)  #rnn_input = [1, batch size, (enc hid dim * 2) + emb dim]\n",
        "\n",
        "    output, hidden = self.rnn(rnn_input, hidden.unsqueeze(0))\n",
        "    #output = [seq len, batch size, dec hid dim * n directions]\n",
        "    #hidden = [n layers * n directions, batch size, dec hid dim]\n",
        "\n",
        "    #seq len, n layers and n directions will always be 1 in this decoder, therefore:\n",
        "    #output = [1, batch size, dec hid dim]\n",
        "    #hidden = [1, batch size, dec hid dim]\n",
        "    #this also means that output == hidden\n",
        "    assert (output == hidden).all()\n",
        "\n",
        "    embedded = embedded.squeeze(0)\n",
        "    output = output.squeeze(0)\n",
        "    weighted = weighted.squeeze(0)\n",
        "\n",
        "    prediction = self.fc_out(torch.cat((output, weighted, embedded), dim = 1))  #prediction = [batch size, output dim]\n",
        "    return prediction, hidden.squeeze(0), a.squeeze(1)"
      ]
    },
    {
      "cell_type": "markdown",
      "metadata": {
        "id": "WwSO5W3KUsjX"
      },
      "source": [
        "### Seq2Seq"
      ]
    },
    {
      "cell_type": "code",
      "execution_count": null,
      "metadata": {
        "id": "Pyz0ZITCU9r5"
      },
      "outputs": [],
      "source": [
        "class Seq2Seq(nn.Module):\n",
        "  def __init__(self, encoder, decoder, src_pad_idx, device):\n",
        "    super().__init__()\n",
        "    self.encoder = encoder\n",
        "    self.decoder = decoder\n",
        "    self.src_pad_idx = src_pad_idx\n",
        "    self.device = device\n",
        "\n",
        "  def create_mask(self, src):\n",
        "    mask = (src != self.src_pad_idx).permute(1, 0)\n",
        "    return mask\n",
        "\n",
        "  def forward(self, datas, criterion=None, teacher_forcing_ratio = 0.5):\n",
        "    #src = [src len, batch size]\n",
        "    #src_len = [batch size]\n",
        "    #trg = [trg len, batch size]\n",
        "    #trg_len = [batch size]\n",
        "    #teacher_forcing_ratio is probability of using trg to be input else prev output to be input for next prediction.\n",
        "    (src, src_len), (trg, _) = datas\n",
        "    batch_size = src.shape[1]\n",
        "    trg_len = trg.shape[0]\n",
        "    trg_vocab_size = self.decoder.output_dim\n",
        "\n",
        "    # SORT\n",
        "    sort_ids, unsort_ids = self.sort_by_sent_len(src_len)\n",
        "    src, src_len, trg = src[:, sort_ids], src_len[sort_ids], trg[:, sort_ids]\n",
        "\n",
        "    #tensor to store decoder outputs\n",
        "    outputs = torch.zeros(trg_len, batch_size, trg_vocab_size).to(self.device)\n",
        "\n",
        "    #encoder_outputs is all hidden states of the input sequence, back and forwards\n",
        "    #hidden is the final forward and backward hidden states, passed through a linear layer\n",
        "    encoder_outputs, hidden = self.encoder(src, src_len)\n",
        "\n",
        "    #first input to the decoder is the <sos> tokens\n",
        "    input = trg[0,:]\n",
        "\n",
        "    mask = self.create_mask(src)  #mask = [batch size, src len]\n",
        "\n",
        "    for t in range(1, trg_len):\n",
        "      #insert input token embedding, previous hidden state, all encoder hidden states and mask\n",
        "      #receive output tensor (predictions) and new hidden state\n",
        "      output, hidden, _ = self.decoder(input, hidden, encoder_outputs, mask)\n",
        "\n",
        "      #place predictions in a tensor holding predictions for each token\n",
        "      outputs[t] = output\n",
        "\n",
        "      #if teacher forcing, use actual next token as next input. Else, use predicted token\n",
        "      input = trg[t] if random.random() < teacher_forcing_ratio else output.argmax(1)\n",
        "\n",
        "    if criterion != None:\n",
        "      loss = self.compute_loss(outputs, trg, criterion)\n",
        "      return loss, outputs[:, unsort_ids, :]\n",
        "    return outputs[:, unsort_ids, :]\n",
        "\n",
        "  def compute_loss(self, output, trg, criterion):\n",
        "    #output = (trg_len, batch_size, trg_vocab_size)\n",
        "    #trg = [trg len, batch size]\n",
        "    output = output[1:].view(-1, output.shape[-1])  #output = [(trg len - 1) * batch size, output dim]\n",
        "    trg = trg[1:].view(-1)  #trg = [(trg len - 1) * batch size]\n",
        "    loss = criterion(output, trg)\n",
        "    return loss\n",
        "\n",
        "  # NEWLY ADDED ##########################\n",
        "  def sort_by_sent_len(self, sent_len):\n",
        "    _, sort_ids = sent_len.sort(descending=True)\n",
        "    unsort_ids = sort_ids.argsort()\n",
        "    return sort_ids, unsort_ids\n",
        "  # END ADDED ############################"
      ]
    },
    {
      "cell_type": "markdown",
      "metadata": {
        "id": "fdjE61pw7CBy"
      },
      "source": [
        "### Pivot model (update)"
      ]
    },
    {
      "cell_type": "markdown",
      "metadata": {
        "id": "qt2bmz1GTTnj"
      },
      "source": [
        "**still need to reorganize code to use for infer (no criterions, only 1 data: src, src_len)**"
      ]
    },
    {
      "cell_type": "code",
      "execution_count": null,
      "metadata": {
        "id": "kdQAxGHj7E2c"
      },
      "outputs": [],
      "source": [
        "class PivotSeq2Seq(nn.Module):\n",
        "  def __init__(self, models: list, fields: list, device, alpha=1.1, lamda=0.75):\n",
        "    super().__init__()\n",
        "    self.num_model = len(models)\n",
        "    self.fields = fields\n",
        "    self.num_field = len(fields)\n",
        "    self.device = device\n",
        "    self.alpha = alpha\n",
        "    self.lamda = lamda\n",
        "    self.add_submodels(models)\n",
        "\n",
        "  def add_submodels(self, models: list):\n",
        "    for i, submodel in enumerate(models):\n",
        "      assert isinstance(submodel, Seq2Seq), type(submodel)\n",
        "      self.add_module(f'model_{i}', submodel)\n",
        "    assert len(models)+1 == len(fields), f\"Not enough Fields for models: num_field={len(fields)} != {len(models)+1}\"\n",
        "\n",
        "  def forward(self, datas: list, criterions=None, teacher_forcing_ratio=0.5):\n",
        "    '''\n",
        "    datas: list of data: [(src, src_len), (piv1, piv_len1), ... , (pivM, piv_lenM), (trg, trg_len)] given M models\n",
        "      src = [src len, batch_size]\n",
        "      src_len = [batch_size]\n",
        "      ...\n",
        "      trg = [trg len, batch_size]\n",
        "      trg_len = [batch_size]\n",
        "    criterions: list of criterion for each model\n",
        "    '''\n",
        "    if criterions != None:\n",
        "      loss_list, output_list = self.run(datas, criterions, teacher_forcing_ratio)\n",
        "      total_loss = self.compute_loss(loss_list)\n",
        "      return total_loss, output_list[-1]\n",
        "    else:\n",
        "      criterions = [None for _ in range(self.num_model)]\n",
        "      _, output_list = self.run(datas, criterions, teacher_forcing_ratio)\n",
        "      return output_list[-1]\n",
        "\n",
        "  def run(self, datas, criterions, teacher_forcing_ratio):\n",
        "    assert self.num_model+1 == len(datas), f\"Not enough datas for models: data_len={len(datas)} != {self.num_model+1}\"\n",
        "    assert self.num_model == len(criterions), f'Criterions must have for each model: num_criterion={len(criterions)} != {self.num_model}'\n",
        "\n",
        "    output_list, loss_list = [], []\n",
        "    for i in range(self.num_model):\n",
        "      isForceOn = True if i==0 else random.random() < teacher_forcing_ratio # 1st model must always use src\n",
        "\n",
        "      # GET NEW INPUT\n",
        "      src, src_len = datas[i] if isForceOn else self.process_output(output_list[-1], self.fields[i+1])\n",
        "      trg, trg_len = datas[i+1]\n",
        "\n",
        "      # FORWARD MODEL\n",
        "      model = getattr(self, f'model_{i}') # Seq2Seq model already sort src by src_len in forward\n",
        "      data = [(src, src_len), (trg, trg_len)]\n",
        "      criterion = criterions[i]\n",
        "      output = model(data, criterion, 0 if criterion==None else teacher_forcing_ratio)\n",
        "\n",
        "      if criterion == None:\n",
        "        output_list.append(output)\n",
        "      else:\n",
        "        assert len(output) == 2, 'With criterion, model should return loss & prediction'\n",
        "        loss, out = output\n",
        "        loss_list.append(loss)\n",
        "        output_list.append(out)\n",
        "\n",
        "    return loss_list, output_list\n",
        "\n",
        "  def compute_loss(self, loss_list):\n",
        "    total_loss = 0.0\n",
        "    for i in range(len(loss_list) - 1): # except final output\n",
        "      total_loss += loss_list[i]\n",
        "    total_loss += self.alpha*loss_list[-1]\n",
        "    return total_loss + self.lamda*self.compute_embed_loss()\n",
        "\n",
        "  def compute_embed_loss(self):\n",
        "    embed_loss = 0.0\n",
        "    for i in range(1, self.num_model):\n",
        "      model1 = getattr(self, f'model_{i-1}')\n",
        "      model2 = getattr(self, f'model_{i}')\n",
        "      embed_loss += torch.sum(F.pairwise_distance(model1.decoder.embedding.weight, model2.encoder.embedding.weight, p=2))\n",
        "    return embed_loss\n",
        "\n",
        "  def sort_by_src_len(self, piv, piv_len, datas): # piv = [piv_len, batch_size]\n",
        "    piv_len, sorted_ids = piv_len.sort(descending=True)\n",
        "    sorted_datas = [(sent[:, sorted_ids], sent_len[sorted_ids]) for (sent, sent_len) in datas]\n",
        "    return piv[:, sorted_ids], piv_len, sorted_datas  # piv sorted along batch_size\n",
        "\n",
        "  def process_output(self, output, piv_field):\n",
        "    # output = [trg len, batch size, output dim]\n",
        "    # trg = [trg len, batch size]\n",
        "    # Process output1 to be input for model2\n",
        "    seq_len, N, _ = output.shape\n",
        "    tmp_out = output.argmax(2)  # tmp_out = [seq_len, batch_size]\n",
        "    # re-create pivot as src for model2\n",
        "    piv = torch.zeros_like(tmp_out).type(torch.long).to(output.device)\n",
        "    piv[0, :] = torch.full_like(piv[0, :], piv_field.vocab.stoi[piv_field.init_token])  # fill all first idx with sos_token\n",
        "\n",
        "    for i in range(1, seq_len):  # for each i in seq_len\n",
        "      # if tmp_out's prev is eos_token, replace w/ pad_token, else current value\n",
        "      eos_mask = (tmp_out[i-1, :] == piv_field.vocab.stoi[piv_field.eos_token])\n",
        "      piv[i, :] = torch.where(eos_mask, piv_field.vocab.stoi[piv_field.pad_token], tmp_out[i, :])\n",
        "      # if piv's prev is pad_token, replace w/ pad_token, else current value\n",
        "      pad_mask = (piv[i-1, :] == piv_field.vocab.stoi[piv_field.pad_token])\n",
        "      piv[i, :] = torch.where(pad_mask, piv_field.vocab.stoi[piv_field.pad_token], piv[i, :])\n",
        "\n",
        "    # Trim down extra pad tokens\n",
        "    tensor_list = [piv[i] for i in range(seq_len) if not all(piv[i] == piv_field.vocab.stoi[piv_field.pad_token])]  # tensor_list = [new_seq_len, batch_size]\n",
        "    piv = torch.stack([x for x in tensor_list], dim=0).type(torch.long).to(output.device)\n",
        "    assert not all(piv[-1] == piv_field.vocab.stoi[piv_field.pad_token]), 'Not completely trim down tensor'\n",
        "\n",
        "    # get seq_id + eos_tok id of each sequence\n",
        "    piv_ids, eos_ids = (piv.permute(1, 0) == piv_field.vocab.stoi[piv_field.eos_token]).nonzero(as_tuple=True)  # piv_len = [N]\n",
        "    piv_len = torch.full_like(piv[0], seq_len).type(torch.long)  # init w/ longest seq\n",
        "    piv_len[piv_ids] = eos_ids + 1 # seq_len = eos_tok + 1\n",
        "\n",
        "    return piv, piv_len"
      ]
    },
    {
      "cell_type": "markdown",
      "metadata": {
        "id": "KgwBXdjq3IkB"
      },
      "source": [
        "### Triangulate model"
      ]
    },
    {
      "cell_type": "code",
      "execution_count": null,
      "metadata": {
        "id": "FKCumOEK3T6k"
      },
      "outputs": [],
      "source": [
        "class TriangSeq2Seq(nn.Module):\n",
        "  def __init__(self, models: list, output_dim, device, alpha=1.1, method='max', train_backbone=True):\n",
        "    # output_dim = trg vocab size\n",
        "    super(TriangSeq2Seq, self).__init__()\n",
        "    self.num_model = len(models)\n",
        "    self.output_dim = output_dim\n",
        "    self.device = device\n",
        "    self.alpha = alpha\n",
        "    self.method = method\n",
        "    self.train_backbone = train_backbone\n",
        "    if method=='weighted':\n",
        "      self.head = nn.Sequential(\n",
        "          nn.ReLU(),\n",
        "          nn.Linear(output_dim*self.num_model, output_dim)\n",
        "      )\n",
        "    elif method=='weighted_1':\n",
        "      # self.head = nn.Sequential(  # traing-EnFr-EnEsFr-dropout-1\n",
        "      #     nn.Linear(self.num_model, self.num_model),\n",
        "      #     nn.ReLU(),\n",
        "      #     nn.Dropout(p=0.5),\n",
        "      #     nn.Linear(self.num_model, 1),\n",
        "      # )\n",
        "      # self.head = nn.Sequential(  # traing-EnFr-EnEsFr-1\n",
        "      #     nn.Linear(self.num_model, self.num_model*2),\n",
        "      #     nn.ReLU(),\n",
        "      #     nn.Linear(self.num_model*2, self.num_model*2),\n",
        "      #     nn.ReLU(),\n",
        "      #     nn.Linear(self.num_model*2, 1),\n",
        "      # )\n",
        "      # self.head = nn.Sequential(  # traing-EnFr-EnEsFr-1-1\n",
        "      #     nn.Linear(self.num_model, self.num_model*2),\n",
        "      #     nn.ReLU(),\n",
        "      #     nn.Dropout(p=0.2),\n",
        "      #     nn.Linear(self.num_model*2, self.num_model*2),\n",
        "      #     nn.ReLU(),\n",
        "      #     nn.Dropout(p=0.2),\n",
        "      #     nn.Linear(self.num_model*2, 1),\n",
        "      # )\n",
        "      self.head = nn.Sequential(  # traing-EnFr-EnEsFr-dense5\n",
        "            nn.Linear(self.num_model, 5),\n",
        "            nn.ReLU(),\n",
        "            nn.Dropout(p=0.2),\n",
        "            nn.Linear(5, 5),\n",
        "            nn.ReLU(),\n",
        "            nn.Dropout(p=0.2),\n",
        "            nn.Linear(5, 1),\n",
        "        )\n",
        "    for i in range(self.num_model):\n",
        "      for param in models[i].parameters():\n",
        "        param.requires_grad = train_backbone\n",
        "      self.add_module(f'model_{i}', models[i])\n",
        "\n",
        "  def forward(self, datas: dict, criterions=None, teacher_forcing_ratio=0.5):\n",
        "    '''\n",
        "    datas: dict of data:\n",
        "      {\"model_0\": (src, src_len, trg, trg_len), \"model_1\": [(src, src_len), (piv, piv_len), (trg, trg_len)], ..., \"TRG\": (trg, trg_len)}\n",
        "      src = [src len, batch size]\n",
        "      src_len = [batch size]\n",
        "    criterions: dict of criterions\n",
        "      {\"model_0\": criterion_0, \"model_1\": criterion_1, ..., \"TRG\": criterion_M}\n",
        "    '''\n",
        "    if criterions != None:\n",
        "      loss_list, output_list = self.run(datas, criterions, teacher_forcing_ratio)\n",
        "      final_out = self.get_final_pred(output_list)\n",
        "      if self.method!='max':total_loss = self.alpha*self.compute_final_pred_loss(final_out, datas[\"TRG\"], criterions[\"TRG\"]) + self.compute_submodels_loss(loss_list)\n",
        "      else: total_loss = self.compute_submodels_loss(loss_list)\n",
        "      return total_loss, final_out\n",
        "    else:\n",
        "      criterions = {f'model_{i}':None for i in range(self.num_model)}\n",
        "      criterions['TRG'] = None\n",
        "      loss_list, output_list = self.run(datas, criterions, teacher_forcing_ratio)\n",
        "      final_out = self.get_final_pred(output_list)\n",
        "      return final_out\n",
        "\n",
        "  def run(self, datas, criterions, teacher_forcing_ratio):\n",
        "    assert self.num_model+1 == len(datas), f\"Not enough datas for models: data_len={len(datas)} != {self.num_model+1}\"  # include 'TRG'\n",
        "    assert self.num_model+1 == len(criterions), f'Criterions must have for each model: num_criterion={len(criterions)} != {self.num_model+1}' # include 'TRG'\n",
        "\n",
        "    output_list = []\n",
        "    loss_list = []\n",
        "    for i in range(self.num_model):\n",
        "      data = datas[f'model_{i}']\n",
        "      model = getattr(self, f'model_{i}')\n",
        "      criterion = criterions[f'model_{i}']\n",
        "      output = model(data, criterion, 0 if criterion==None else teacher_forcing_ratio)\n",
        "\n",
        "      if criterion == None:\n",
        "        output_list.append(output)\n",
        "      else:\n",
        "        assert len(output) == 2, 'With criterion, model should return loss & prediction'\n",
        "        loss_list.append(output[0])\n",
        "        output_list.append(output[1])\n",
        "\n",
        "    return loss_list, output_list\n",
        "\n",
        "  def compute_submodels_loss(self, loss_list):\n",
        "    total_loss = 0.0\n",
        "    for loss in loss_list:\n",
        "      total_loss += loss\n",
        "    return total_loss\n",
        "\n",
        "  def compute_final_pred_loss(self, output, data, criterion):\n",
        "    #output = (trg_len, batch_size, trg_vocab_size)\n",
        "    #data = [trg, trg_len]  # trg.shape = [seq_len, batch_size]\n",
        "    trg, _ = data\n",
        "    output = output[1:].reshape(-1, output.shape[-1])  #output = [(trg len - 1) * batch size, output dim]\n",
        "    trg = trg[1:].reshape(-1)  #trg = [(trg len - 1) * batch size]\n",
        "    loss = criterion(output, trg)\n",
        "    return loss\n",
        "\n",
        "  def get_final_pred(self, output_list):  # output_list[0] shape = [seq_len, N, out_dim]\n",
        "    # assert all([output_list[i].shape == output_list[i-1].shape for i in range(1, len(output_list))]), 'all outputs must match shape [seq_len, N, out_dim]'\n",
        "    seq_len, N, out_dim = output_list[0].shape\n",
        "    if self.method=='weighted':\n",
        "      linear_in = torch.cat([out for out in output_list], dim=-1) # linear_in = [seq_len, N, out_dim * num_model]. Note that num_model = len(output_list)\n",
        "      final_out = self.head(linear_in)  # final_out = [seq_len, N, out_dim]\n",
        "      return final_out\n",
        "    elif self.method=='weighted_1':\n",
        "      output_list = [out.permute(1, 0, 2).reshape(N, -1) for out in output_list]  # [N, seq_len, out_dim] --> [N, seq_len*out_dim]\n",
        "      final_out = self.head(torch.stack(output_list, dim=-1)).squeeze(-1)  # [N, seq_len*out_dim, num_model] --> [N, seq_len*out_dim, 1] --> [N, seq_len*out_dim]\n",
        "      return final_out.reshape(N, seq_len, out_dim).permute(1, 0, 2) # [N, seq_len, out_dim] --> [seq_len, N, out_dim]\n",
        "    elif self.method=='average':\n",
        "      outputs = torch.mean(torch.stack(output_list, dim=0), dim=0)\n",
        "      return outputs\n",
        "    elif self.method=='max':\n",
        "      all_t = torch.stack(output_list, dim=-1)\n",
        "      prob_ts = torch.stack([F.softmax(d, -1) for d in output_list], dim=-1)\n",
        "\n",
        "      final_selected_ts = []\n",
        "      for sent_id in range(N):\n",
        "        # get ids of each model (get selected words)\n",
        "        ids_list = []\n",
        "        for m in range(self.num_model):\n",
        "          m_t = prob_ts[..., m] # [seq_len, N, out_dim]\n",
        "          ids_list.append(torch.argmax(m_t[:, sent_id, :], dim=-1, keepdim=True))\n",
        "        # get the confusion matrix\n",
        "        all_pairs = []\n",
        "        for t in range(self.num_model):\n",
        "          t_eachM = []\n",
        "          for m in range(self.num_model):\n",
        "            m_t = prob_ts[..., m]\n",
        "            t_eachM.append(torch.gather(m_t[:, sent_id, :], -1, ids_list[t]))\n",
        "          all_pairs.append(t_eachM)\n",
        "        # calculate the prob of each sent\n",
        "        t_m_prod = []\n",
        "        for t in range(self.num_model):\n",
        "          t_eachM = []\n",
        "          for m in range(self.num_model):\n",
        "            t1_m1 = all_pairs[t][m]\n",
        "            t_eachM.append(torch.mean(t1_m1, dim=0))  # original: prod\n",
        "          t_m_prod.append(t_eachM)\n",
        "        t_totals = [torch.stack(t_m_prod[t], dim=-1)for t in range(self.num_model)]\n",
        "        t_means = [torch.mean(t_totals[t], dim=-1) for t in range(self.num_model)]\n",
        "        t_cats = torch.cat(t_means, dim=-1)\n",
        "        t_selects = torch.argmax(t_cats)\n",
        "        selected_t = torch.select(all_t[:, sent_id, ...], -1, t_selects)\n",
        "        final_selected_ts.append(selected_t)\n",
        "      output = torch.stack(final_selected_ts, dim=1)\n",
        "      return output\n",
        "    else:\n",
        "      return output_list[0]"
      ]
    },
    {
      "cell_type": "markdown",
      "metadata": {
        "id": "2cDqYW-LTnGm"
      },
      "source": [
        "## Train func"
      ]
    },
    {
      "cell_type": "code",
      "execution_count": null,
      "metadata": {
        "id": "iaocGp1dS3RJ"
      },
      "outputs": [],
      "source": [
        "def update_trainlog(data: list, filename: str=f'{DIR_PATH}/training_log.txt'):\n",
        "  ''' Update training log w/ new losses\n",
        "  Args:\n",
        "      data (List): a list of infor for many epochs as tuple, each tuple has model_name, loss, etc.\n",
        "      filename (String): path + file_name\n",
        "  Return:\n",
        "      None: new data is appended into train-log\n",
        "  '''\n",
        "  with open(filename, 'a') as f: # save\n",
        "    for epoch in data:\n",
        "      f.write(','.join(epoch))\n",
        "      f.write(\"\\n\")\n",
        "  print('update_trainlog SUCCESS')\n",
        "  return []\n",
        "def init_weights(m):\n",
        "  for name, param in m.named_parameters():\n",
        "    if 'weight' in name:\n",
        "      nn.init.normal_(param.data, mean=0, std=0.01)\n",
        "    else:\n",
        "      nn.init.constant_(param.data, 0)\n",
        "def count_parameters(model):\n",
        "    return sum(p.numel() for p in model.parameters() if p.requires_grad)"
      ]
    },
    {
      "cell_type": "markdown",
      "metadata": {
        "id": "H9Z6RxOnzLa9"
      },
      "source": [
        "### Seq2Seq"
      ]
    },
    {
      "cell_type": "code",
      "execution_count": null,
      "metadata": {
        "id": "PyiHo_rj7b3t"
      },
      "outputs": [],
      "source": [
        "def trainSeq2Seq(model, iterator, optimizer, criterion, clip):\n",
        "  model.train()\n",
        "  epoch_loss = 0.0\n",
        "  for batch in tqdm(iterator):\n",
        "    optimizer.zero_grad()\n",
        "    datas = [batch.en, batch.fr]\n",
        "    loss, _ = model(datas, criterion, 0.5)\n",
        "\n",
        "    loss.backward()\n",
        "    torch.nn.utils.clip_grad_norm_(model.parameters(), clip)\n",
        "    optimizer.step()\n",
        "    epoch_loss += loss.item()\n",
        "  return epoch_loss / len(iterator)\n",
        "\n",
        "def evaluateSeq2Seq(model, iterator, criterion):\n",
        "  model.eval()\n",
        "  epoch_loss = 0.0\n",
        "  with torch.no_grad():\n",
        "    for batch in tqdm(iterator):\n",
        "      datas = [batch.en, batch.fr]\n",
        "      loss, _ = model(datas, criterion, 0) # turn off teacher forcing\n",
        "      epoch_loss += loss.item()\n",
        "    return epoch_loss / len(iterator)"
      ]
    },
    {
      "cell_type": "markdown",
      "metadata": {
        "id": "Jfky7439zNhN"
      },
      "source": [
        "### Pivot"
      ]
    },
    {
      "cell_type": "code",
      "execution_count": null,
      "metadata": {
        "id": "Au60zQ85n8No"
      },
      "outputs": [],
      "source": [
        "def trainPivot(model, iterator, optimizer, criterions, clip):\n",
        "  model.train()\n",
        "  epoch_loss = 0.0\n",
        "  for batch in tqdm(iterator):\n",
        "    optimizer.zero_grad()\n",
        "    model_inputs = [batch.en, batch.es, batch.fr]\n",
        "    loss, _ = model(model_inputs, criterions, 0.5)\n",
        "\n",
        "    loss.backward()\n",
        "    torch.nn.utils.clip_grad_norm_(model.parameters(), clip)\n",
        "    optimizer.step()\n",
        "    epoch_loss += loss.item()\n",
        "  return epoch_loss / len(iterator)\n",
        "\n",
        "def evaluatePivot(model, iterator, criterions):\n",
        "  model.eval()\n",
        "  epoch_loss = 0.0\n",
        "  with torch.no_grad():\n",
        "    for batch in tqdm(iterator):\n",
        "      model_inputs = [batch.en, batch.es, batch.fr]\n",
        "      loss, _ = model(model_inputs, criterions, 0)\n",
        "      epoch_loss += loss.item()\n",
        "    return epoch_loss / len(iterator)"
      ]
    },
    {
      "cell_type": "markdown",
      "metadata": {
        "id": "ARfI-GykzP9L"
      },
      "source": [
        "### Triangulate"
      ]
    },
    {
      "cell_type": "code",
      "execution_count": null,
      "metadata": {
        "id": "TsX8opIkn7y7"
      },
      "outputs": [],
      "source": [
        "# for triangulate model\n",
        "def trainTriang(model, iterator, optimizer, criterions, clip):\n",
        "  model.train()\n",
        "  epoch_loss = 0.0\n",
        "  for batch in tqdm(iterator):\n",
        "    optimizer.zero_grad()\n",
        "    model_inputs = {\n",
        "        'model_0': [batch.en, batch.fr],\n",
        "        'model_1': [batch.en, vars(batch)['es'], batch.fr],\n",
        "        'TRG': batch.fr\n",
        "    }\n",
        "    loss, _ = model(model_inputs, criterions, 0.5)\n",
        "    loss.backward()\n",
        "    torch.nn.utils.clip_grad_norm_(model.parameters(), clip)\n",
        "    optimizer.step()\n",
        "    epoch_loss += loss.item()\n",
        "  return epoch_loss / len(iterator)\n",
        "\n",
        "def evaluateTriang(model, iterator, criterions):\n",
        "  model.eval()\n",
        "  epoch_loss = 0.0\n",
        "  with torch.no_grad():\n",
        "    for batch in tqdm(iterator):\n",
        "      model_inputs = {\n",
        "        'model_0': [batch.en, batch.fr],\n",
        "        'model_1': [batch.en, vars(batch)['es'], batch.fr],\n",
        "        'TRG': batch.fr\n",
        "      }\n",
        "      loss, _ = model(model_inputs, criterions, 0)\n",
        "      epoch_loss += loss.item()\n",
        "    return epoch_loss / len(iterator)"
      ]
    },
    {
      "cell_type": "markdown",
      "metadata": {
        "id": "MYFp2rpQUEbX"
      },
      "source": [
        "## Train"
      ]
    },
    {
      "cell_type": "code",
      "execution_count": null,
      "metadata": {
        "id": "f3fRYyFRUYjF"
      },
      "outputs": [],
      "source": [
        "cfg = {\n",
        "    'EMB_DIM': 256,\n",
        "    'HID_DIM': 512,\n",
        "    'DROPOUT': 0.5,\n",
        "    'en_DIM': 6964,\n",
        "    'fr_DIM': 9703,\n",
        "    'es_DIM': 10461,\n",
        "    'it_DIM': 10712,\n",
        "    'pt_DIM': 10721,\n",
        "    'ro_DIM': 11989\n",
        "}"
      ]
    },
    {
      "cell_type": "markdown",
      "metadata": {
        "id": "VKGgTuL4tThr"
      },
      "source": [
        "### Seq2Seq"
      ]
    },
    {
      "cell_type": "code",
      "execution_count": null,
      "metadata": {
        "id": "9b_1FE6ZlpEh"
      },
      "outputs": [],
      "source": [
        "# For 2 langs\n",
        "EMB_DIM = 256\n",
        "HID_DIM = 512\n",
        "DROPOUT = 0.5\n",
        "\n",
        "INPUT_DIM = len(EN_FIELD.vocab)\n",
        "OUTPUT_DIM = len(FR_FIELD.vocab)\n",
        "SRC_PAD_IDX = EN_FIELD.vocab.stoi[EN_FIELD.pad_token]\n",
        "\n",
        "attn = Attention(HID_DIM, HID_DIM)\n",
        "enc = Encoder(INPUT_DIM, EMB_DIM, HID_DIM, HID_DIM, DROPOUT)\n",
        "dec = Decoder(OUTPUT_DIM, EMB_DIM, HID_DIM, HID_DIM, DROPOUT, attn)\n",
        "\n",
        "model = Seq2Seq(enc, dec, SRC_PAD_IDX, device).to(device)"
      ]
    },
    {
      "cell_type": "markdown",
      "metadata": {
        "id": "TmXsuwuctVw7"
      },
      "source": [
        "### Pivot"
      ]
    },
    {
      "cell_type": "code",
      "execution_count": null,
      "metadata": {
        "id": "zhpJPc2DaIHU"
      },
      "outputs": [],
      "source": [
        "EMB_DIM = 256\n",
        "HID_DIM = 512\n",
        "DROPOUT = 0.5\n",
        "\n",
        "INPUT_DIM = len(EN_FIELD.vocab)\n",
        "PIV_DIM = len(ES_FIELD.vocab)\n",
        "OUTPUT_DIM = len(FR_FIELD.vocab)\n",
        "\n",
        "SRC_PAD_IDX = EN_FIELD.vocab.stoi[EN_FIELD.pad_token]\n",
        "attn1 = Attention(HID_DIM, HID_DIM)\n",
        "enc1 = Encoder(INPUT_DIM, EMB_DIM, HID_DIM, HID_DIM, DROPOUT)\n",
        "dec1 = Decoder(PIV_DIM, EMB_DIM, HID_DIM, HID_DIM, DROPOUT, attn1)\n",
        "model1 = Seq2Seq(enc1, dec1, SRC_PAD_IDX, device).to(device)\n",
        "\n",
        "PIV_PAD_IDX = ES_FIELD.vocab.stoi[ES_FIELD.pad_token]\n",
        "attn2 = Attention(HID_DIM, HID_DIM)\n",
        "enc2 = Encoder(PIV_DIM, EMB_DIM, HID_DIM, HID_DIM, DROPOUT)\n",
        "dec2 = Decoder(OUTPUT_DIM, EMB_DIM, HID_DIM, HID_DIM, DROPOUT, attn2)\n",
        "model2 = Seq2Seq(enc2, dec2, PIV_PAD_IDX, device).to(device)\n",
        "\n",
        "models = [model1, model2]\n",
        "fields = [EN_FIELD, ES_FIELD, FR_FIELD]\n",
        "model = PivotSeq2Seq(models, fields, device).to(device)"
      ]
    },
    {
      "cell_type": "code",
      "execution_count": null,
      "metadata": {
        "id": "w17mudUK93th"
      },
      "outputs": [],
      "source": [
        "src, trg = (1, 2), (3, 4)\n",
        "data = {'TRG': trg}\n",
        "for i in range(model_1.num_model):\n",
        "  submodel = model_1.get_submodule(f'model_{i}')\n",
        "  if isinstance(submodel, Seq2Seq):\n",
        "    data[f'model_{i}'] = [src, trg]\n",
        "  elif isinstance(submodel, PivotSeq2Seq):\n",
        "    data[f'model_{i}'] = [src] + [trg for _ in range(submodel.num_model)]\n",
        "data"
      ]
    },
    {
      "cell_type": "code",
      "execution_count": null,
      "metadata": {
        "id": "P4-h-OaXw-5J"
      },
      "outputs": [],
      "source": [
        "model_path = f'{DIR_PATH}/piv-EnEsFr.pt'\n",
        "ckpt = torch.load(model_path)\n",
        "# optimizer.load_state_dict(ckpt['optimizer_state_dict'])\n",
        "# scheduler.load_state_dict(ckpt['scheduler_state_dict'])\n",
        "model.load_state_dict(ckpt['model_state_dict']) # strict=False if some dimensions are different"
      ]
    },
    {
      "cell_type": "markdown",
      "metadata": {
        "id": "ifgtDQwvtRcw"
      },
      "source": [
        "### Triangulate"
      ]
    },
    {
      "cell_type": "code",
      "execution_count": null,
      "metadata": {
        "colab": {
          "base_uri": "https://localhost:8080/"
        },
        "id": "6bCDFxzKtZPa",
        "outputId": "e8f42780-e9ce-41b8-f0ab-cb8ddd2fe8d2"
      },
      "outputs": [
        {
          "name": "stdout",
          "output_type": "stream",
          "text": [
            "loaded model seq2seq-EnFr-1.pt\n",
            "loaded model piv-EnEsFr.pt\n",
            "The model has 0 trainable parameters\n"
          ]
        }
      ],
      "source": [
        "# DIRECT\n",
        "SRC_PAD_IDX = EN_FIELD.vocab.stoi[EN_FIELD.pad_token]\n",
        "attn = Attention(cfg['HID_DIM'], cfg['HID_DIM'])\n",
        "enc = Encoder(cfg['en_DIM'], cfg['EMB_DIM'], cfg['HID_DIM'], cfg['HID_DIM'], cfg['DROPOUT'])\n",
        "dec = Decoder(cfg['fr_DIM'], cfg['EMB_DIM'], cfg['HID_DIM'], cfg['HID_DIM'], cfg['DROPOUT'], attn)\n",
        "\n",
        "model_direct = Seq2Seq(enc, dec, SRC_PAD_IDX, device).to(device)\n",
        "modelname = f'seq2seq-EnFr-1.pt'\n",
        "model_direct.load_state_dict(torch.load(f'{DIR_PATH}/{modelname}')['model_state_dict'])\n",
        "print(f'loaded model {modelname}')\n",
        "\n",
        "# PIVOT\n",
        "lang = 'es'\n",
        "TMP_FIELD = FIELD_DICT[lang]\n",
        "\n",
        "SRC_PAD_IDX = EN_FIELD.vocab.stoi[EN_FIELD.pad_token]\n",
        "attn1 = Attention(cfg['HID_DIM'], cfg['HID_DIM'])\n",
        "enc1 = Encoder(cfg['en_DIM'], cfg['EMB_DIM'], cfg['HID_DIM'], cfg['HID_DIM'], cfg['DROPOUT'])\n",
        "dec1 = Decoder(cfg[f'{lang}_DIM'], cfg['EMB_DIM'], cfg['HID_DIM'], cfg['HID_DIM'], cfg['DROPOUT'], attn1)\n",
        "model1 = Seq2Seq(enc1, dec1, SRC_PAD_IDX, device).to(device)\n",
        "\n",
        "PIV_PAD_IDX = TMP_FIELD.vocab.stoi[TMP_FIELD.pad_token]\n",
        "attn2 = Attention(cfg['HID_DIM'], cfg['HID_DIM'])\n",
        "enc2 = Encoder(cfg[f'{lang}_DIM'], cfg['EMB_DIM'], cfg['HID_DIM'], cfg['HID_DIM'], cfg['DROPOUT'])\n",
        "dec2 = Decoder(cfg['fr_DIM'], cfg['EMB_DIM'], cfg['HID_DIM'], cfg['HID_DIM'], cfg['DROPOUT'], attn2)\n",
        "model2 = Seq2Seq(enc2, dec2, PIV_PAD_IDX, device).to(device)\n",
        "\n",
        "models = [model1, model2]\n",
        "fields = [EN_FIELD, TMP_FIELD, FR_FIELD]\n",
        "model_piv = PivotSeq2Seq(models, fields, device).to(device)\n",
        "modelname = f'piv-En{lang[0].upper()}{lang[1]}Fr.pt'\n",
        "model_piv.load_state_dict(torch.load(f'{DIR_PATH}/{modelname}')['model_state_dict'])\n",
        "print(f'loaded model {modelname}')\n",
        "\n",
        "# TRIANGULATE\n",
        "models = [model_direct, model_piv]\n",
        "model = TriangSeq2Seq(models, cfg['fr_DIM'], device, alpha=1.1, method='max', train_backbone=False).to(device)\n",
        "\n",
        "print(f'The model has {count_parameters(model):,} trainable parameters')"
      ]
    },
    {
      "cell_type": "markdown",
      "metadata": {
        "id": "ZhCTMvF2tbQs"
      },
      "source": [
        "### Train loop"
      ]
    },
    {
      "cell_type": "code",
      "execution_count": null,
      "metadata": {
        "id": "M7CeajzjlzWj"
      },
      "outputs": [],
      "source": [
        "if isinstance(model, Seq2Seq) or isinstance(model, PivotSeq2Seq) or (isinstance(model, TriangSeq2Seq) and model.train_backbone):\n",
        "  # model.apply(init_weights) # remove if backbone models are freezed\n",
        "  print('init_weights success')\n",
        "elif isinstance(model, TriangSeq2Seq) and not model.train_backbone:\n",
        "  # model.head.apply(init_weights)\n",
        "  print('init_weights head ONLY success')\n",
        "print(f'The model has {count_parameters(model):,} trainable parameters')"
      ]
    },
    {
      "cell_type": "code",
      "execution_count": null,
      "metadata": {
        "colab": {
          "base_uri": "https://localhost:8080/"
        },
        "id": "V_5TFOZsmPsH",
        "outputId": "5b154297-61e1-4d73-c0dd-6a3138d83b72"
      },
      "outputs": [
        {
          "name": "stdout",
          "output_type": "stream",
          "text": [
            "Created criterion for piv\n",
            "Created criterion for triang\n"
          ]
        }
      ],
      "source": [
        "criterion2 = nn.CrossEntropyLoss(ignore_index = FR_FIELD.vocab.stoi[FR_FIELD.pad_token])\n",
        "\n",
        "if isinstance(model, PivotSeq2Seq) or isinstance(model, TriangSeq2Seq):\n",
        "  criterion1 = nn.CrossEntropyLoss(ignore_index = FIELD_DICT['es'].vocab.stoi[FIELD_DICT['es'].pad_token])\n",
        "  criterions3 = [criterion1, criterion2]\n",
        "  print('Created criterion for piv')\n",
        "\n",
        "if isinstance(model, TriangSeq2Seq):\n",
        "  criterions = {\n",
        "      'model_0': criterion2,\n",
        "      'model_1': criterions3,\n",
        "      'TRG': nn.CrossEntropyLoss(ignore_index = FR_FIELD.vocab.stoi[FR_FIELD.pad_token])\n",
        "  }\n",
        "  print('Created criterion for triang')"
      ]
    },
    {
      "cell_type": "code",
      "execution_count": null,
      "metadata": {
        "id": "FIYc-s0FTPRM"
      },
      "outputs": [],
      "source": [
        "N_EPOCHS = 1\n",
        "CLIP = 1\n",
        "best_valid_loss = float('inf')\n",
        "best_train_loss = float('inf')\n",
        "model_name = 'traing-EnFr-EnEsFr-dense5.pt'\n",
        "train_log = []"
      ]
    },
    {
      "cell_type": "code",
      "execution_count": null,
      "metadata": {
        "colab": {
          "base_uri": "https://localhost:8080/"
        },
        "id": "edsBDaCEmQD_",
        "outputId": "846b5a57-45a6-43b0-e7da-952251ca146c"
      },
      "outputs": [
        {
          "data": {
            "text/plain": [
              "[0.0001]"
            ]
          },
          "execution_count": 40,
          "metadata": {},
          "output_type": "execute_result"
        }
      ],
      "source": [
        "LR = 1e-4\n",
        "optimizer = optim.Adam(model.parameters(), lr=LR)\n",
        "scheduler = optim.lr_scheduler.MultiStepLR(optimizer, milestones=[1], gamma=1.0/3.0)\n",
        "scheduler.get_last_lr()"
      ]
    },
    {
      "cell_type": "code",
      "execution_count": null,
      "metadata": {
        "id": "3ngIAH5cldRm"
      },
      "outputs": [],
      "source": [
        "for epoch in range(N_EPOCHS):\n",
        "  if isinstance(model, Seq2Seq):\n",
        "    train_loss = trainSeq2Seq(model, train_iterator, optimizer, criterion2, CLIP)\n",
        "    valid_loss = evaluateSeq2Seq(model, valid_iterator, criterion2)\n",
        "  elif isinstance(model, PivotSeq2Seq):\n",
        "    train_loss = trainPivot(model, train_iterator, optimizer, criterions3, CLIP)\n",
        "    valid_loss = evaluatePivot(model, valid_iterator, criterions)\n",
        "  elif isinstance(model, TriangSeq2Seq):\n",
        "    train_loss = trainTriang(model, train_iterator, optimizer, criterions, CLIP)\n",
        "    valid_loss = evaluateTriang(model, valid_iterator, criterions)\n",
        "  else: raise Exception('Model type is unknown')\n",
        "\n",
        "  print('scheduler.get_last_lr()', scheduler.get_last_lr())\n",
        "  epoch_info = [model_name, dataname, scheduler.get_last_lr()[0], BATCH_SIZE, HID_DIM, DROPOUT, epoch, N_EPOCHS, train_loss, valid_loss]\n",
        "  train_log.append([str(info) for info in epoch_info])\n",
        "\n",
        "  scheduler.step()\n",
        "\n",
        "  if train_loss < best_train_loss or valid_loss < best_valid_loss:\n",
        "  # if valid_loss < best_valid_loss:\n",
        "    best_train_loss = train_loss\n",
        "    best_valid_loss = valid_loss\n",
        "    torch.save({\n",
        "        'model_state_dict': model.state_dict(),\n",
        "        'optimizer_state_dict': optimizer.state_dict(),\n",
        "        'scheduler_state_dict': scheduler.state_dict()\n",
        "    }, f'{DIR_PATH}/{model_name}')\n",
        "    print('SAVED MODEL')\n",
        "    train_log = update_trainlog(train_log, f'{DIR_PATH}/training_log-OLD.txt')\n",
        "\n",
        "  print(f'Epoch: {epoch:02} \\t Train Loss: {train_loss:.3f} \\t Val. Loss: {valid_loss:.3f}')"
      ]
    },
    {
      "cell_type": "markdown",
      "metadata": {
        "id": "jRFofx7s1jJa"
      },
      "source": [
        "## Eval"
      ]
    },
    {
      "cell_type": "code",
      "execution_count": null,
      "metadata": {
        "colab": {
          "base_uri": "https://localhost:8080/"
        },
        "id": "qS7TxmFB40s9",
        "outputId": "86ef0fdc-aae2-4de1-ad17-ecd3a0df0dc7"
      },
      "outputs": [
        {
          "data": {
            "text/plain": [
              "dict_keys(['en', 'fr', 'it'])"
            ]
          },
          "execution_count": 33,
          "metadata": {},
          "output_type": "execute_result"
        }
      ],
      "source": [
        "for batch in test_iterator:\n",
        "  break\n",
        "batch.fields"
      ]
    },
    {
      "cell_type": "code",
      "execution_count": null,
      "metadata": {
        "id": "g-RDSB1LkKys"
      },
      "outputs": [],
      "source": [
        "model_path = f'{DIR_PATH}/traing-EnFr-EnEsFr-1.pt'\n",
        "ckpt = torch.load(model_path)"
      ]
    },
    {
      "cell_type": "code",
      "execution_count": null,
      "metadata": {
        "colab": {
          "base_uri": "https://localhost:8080/"
        },
        "id": "PwZxT4MZ8tV3",
        "outputId": "5cd8843d-8e3d-4060-8350-922cef5664bc"
      },
      "outputs": [
        {
          "data": {
            "text/plain": [
              "<All keys matched successfully>"
            ]
          },
          "execution_count": 132,
          "metadata": {},
          "output_type": "execute_result"
        }
      ],
      "source": [
        "# optimizer.load_state_dict(ckpt['optimizer_state_dict'])\n",
        "# scheduler.load_state_dict(ckpt['scheduler_state_dict'])\n",
        "model.load_state_dict(ckpt['model_state_dict']) # strict=False if some dimensions are different"
      ]
    },
    {
      "cell_type": "code",
      "execution_count": null,
      "metadata": {
        "id": "blKOkBAe1m5G"
      },
      "outputs": [],
      "source": [
        "# test_loss = evaluate(model_infer, test_iterator, criterion2, isPivot=False, force=0)\n",
        "# print(f'| Test Loss: {test_loss:.3f} | Test PPL: {math.exp(test_loss):7.3f} |')"
      ]
    },
    {
      "cell_type": "markdown",
      "metadata": {
        "id": "cbS1GfWq2DmK"
      },
      "source": [
        "## Inference"
      ]
    },
    {
      "cell_type": "code",
      "execution_count": null,
      "metadata": {
        "id": "xUMMEYoLaDr_"
      },
      "outputs": [],
      "source": [
        "def sent2tensor(src_field, trg_field, device, max_len, sentence=None):\n",
        "  if sentence != None:\n",
        "    if isinstance(sentence, str):\n",
        "      tokens = tokenize_en(sentence)\n",
        "    else:\n",
        "      tokens = [token.lower() for token in sentence]\n",
        "    tokens = [src_field.init_token] + tokens + [src_field.eos_token]\n",
        "    src_indexes = [src_field.vocab.stoi[token] for token in tokens]\n",
        "    src_tensor = torch.LongTensor(src_indexes).unsqueeze(1).to(device)  # [seq_len, N] w/ N=1 for batch\n",
        "    src_len_tensor = torch.LongTensor([len(src_indexes)]).to(device)\n",
        "    return src_tensor, src_len_tensor\n",
        "\n",
        "  trg_tensor = torch.LongTensor([trg_field.vocab.stoi[trg_field.init_token]] + [0 for i in range(1, max_len)]).view(-1, 1).to(device) # [seq_len, 1]\n",
        "  trg_len_tensor = torch.LongTensor([max_len]).to(device)\n",
        "  return trg_tensor, trg_len_tensor\n",
        "\n",
        "def idx2sent(trg_field, arr):\n",
        "  n_sents = arr.shape[1]  # arr = [seq_len, N]\n",
        "  results = []\n",
        "  for i in range(n_sents):  # for each sent\n",
        "    pred_sent = []\n",
        "    pred = arr[:, i]\n",
        "    for i in pred[1:]:  # for each word\n",
        "      pred_sent.append(trg_field.vocab.itos[i])\n",
        "      if i == trg_field.vocab.stoi[trg_field.eos_token]: break\n",
        "    results.append(pred_sent)\n",
        "  return results"
      ]
    },
    {
      "cell_type": "markdown",
      "metadata": {
        "id": "_3qwJt8Q1qN1"
      },
      "source": [
        "### Translate by sent"
      ]
    },
    {
      "cell_type": "code",
      "execution_count": null,
      "metadata": {
        "id": "gS4-Qw0OYCug"
      },
      "outputs": [],
      "source": [
        "def translate_sentence(sentence, src_field, trg_field, model, device, max_len=64):\n",
        "  model.eval()\n",
        "  with torch.no_grad():\n",
        "    # create data\n",
        "    src = sent2tensor(src_field, trg_field, device, max_len, sentence)\n",
        "    trg = sent2tensor(src_field, trg_field, device, max_len)\n",
        "    # get data\n",
        "    if isinstance(model, Seq2Seq):\n",
        "      data = [src, trg]\n",
        "    elif isinstance(model, PivotSeq2Seq):\n",
        "      data = [src] + [trg for _ in range(model.num_model)]\n",
        "    elif isinstance(model, TriangSeq2Seq):\n",
        "      data = {'TRG': trg}\n",
        "      for i in range(model.num_model):\n",
        "        submodel = getattr(model, f'model_{i}')\n",
        "        if isinstance(submodel, Seq2Seq):\n",
        "          data[f'model_{i}'] = [src, trg]\n",
        "        elif isinstance(submodel, PivotSeq2Seq):\n",
        "          data[f'model_{i}'] = [src] + [trg for _ in range(submodel.num_model)]\n",
        "        else: raise Exception('Only support Seq2Seq & PivotSeq2Seq nested inside TriangSeq2Seq')\n",
        "    else: raise Exception('Model type is unknown')\n",
        "    # feed model\n",
        "    output = model(data, None, 0) # output = [trg_len, N, dec_emb_dim] w/ N=1\n",
        "    output = output.argmax(-1).detach().cpu().numpy() # output = [seq_len, N]\n",
        "    results = idx2sent(trg_field, output)\n",
        "    return results"
      ]
    },
    {
      "cell_type": "code",
      "execution_count": null,
      "metadata": {
        "id": "c6d_Ggwz2EcZ"
      },
      "outputs": [],
      "source": [
        "def translate_sentence_seq2seq(sentence, src_field, trg_field, model: Seq2Seq, device, max_len=64):\n",
        "  model.eval()\n",
        "  with torch.no_grad():\n",
        "    # get data\n",
        "    src_tensor, src_len_tensor = sent2tensor(src_field, trg_field, device, max_len, sentence)\n",
        "    trg_tensor, trg_len_tensor = sent2tensor(src_field, trg_field, device, max_len)\n",
        "    data = [(src_tensor, src_len_tensor), (trg_tensor, trg_len_tensor)]\n",
        "    # feed model\n",
        "    output = model(data, None, 0) # output = [trg_len, N, dec_emb_dim] w/ N=1\n",
        "    output = output.argmax(-1).detach().cpu().numpy() # output = [seq_len, N]\n",
        "    results = idx2sent(trg_field, output)\n",
        "    return results\n",
        "\n",
        "def translate_sentence_pivot(sentence, src_field, trg_field, model, device, max_len=64):  # not yet modified\n",
        "  model.eval()\n",
        "  with torch.no_grad():\n",
        "    # get data\n",
        "    src_tensor, src_len_tensor = sent2tensor(src_field, trg_field, device, max_len, sentence)\n",
        "    trg_tensor, trg_len_tensor = sent2tensor(src_field, trg_field, device, max_len)\n",
        "    data = [(src_tensor, src_len_tensor)] + [(trg_tensor.clone().detach().to(device), trg_len_tensor.clone().detach().to(device)) for _ in range(model.num_model)]\n",
        "    # feed model\n",
        "    output = model(data, None, 0) # output = [trg_len, N, dec_emb_dim]\n",
        "    output = output.argmax(-1).detach().cpu().numpy()\n",
        "    results = idx2sent(trg_field, output)\n",
        "    return results\n",
        "\n",
        "def translate_batch_triang(sentence, src_field, trg_field, model, device, max_len=64):  # not yet complete. modify sentence/sentences, fields base on type of models\n",
        "  model.eval()\n",
        "  with torch.no_grad():\n",
        "    # get data\n",
        "    src_tensor, src_len_tensor = sent2tensor(src_field, trg_field, device, max_len, sentence)\n",
        "    trg_tensor, trg_len_tensor = sent2tensor(src_field, trg_field, device, max_len)\n",
        "    data = {\n",
        "      'model_0': [(src_tensor, src_len_tensor), (trg_tensor, trg_len_tensor)],\n",
        "      'model_1': [(src_tensor, src_len_tensor), (trg_tensor, trg_len_tensor), (trg_tensor, trg_len_tensor)],\n",
        "      'model_2': [(src_tensor, src_len_tensor), (trg_tensor, trg_len_tensor), (trg_tensor, trg_len_tensor)],\n",
        "      'TRG': (trg_tensor, trg_len_tensor)}\n",
        "    # feed model\n",
        "    output = model(data, None, 0)\n",
        "    output = output.argmax(-1).detach().cpu().numpy()\n",
        "    results = idx2sent(trg_field, output)\n",
        "    return results"
      ]
    },
    {
      "cell_type": "code",
      "execution_count": null,
      "metadata": {
        "colab": {
          "base_uri": "https://localhost:8080/"
        },
        "id": "nCEv3JC-i8_2",
        "outputId": "f93432b1-46ff-4ce3-d1b3-fb61503eab97"
      },
      "outputs": [
        {
          "name": "stdout",
          "output_type": "stream",
          "text": [
            "Created translator for triang\n"
          ]
        }
      ],
      "source": [
        "if isinstance(model, Seq2Seq):\n",
        "  translator = translate_sentence_seq2seq\n",
        "  print('Created translator for seq2seq')\n",
        "elif isinstance(model, PivotSeq2Seq):\n",
        "  translator = translate_sentence_pivot\n",
        "  print('Created translator for piv')\n",
        "elif isinstance(model, TriangSeq2Seq):\n",
        "  translator = translate_batch_triang\n",
        "  print('Created translator for triang')\n",
        "else:\n",
        "  try:\n",
        "    translator = translate_sentence\n",
        "  except:\n",
        "    raise Exception('Model type is unknown')"
      ]
    },
    {
      "cell_type": "code",
      "execution_count": null,
      "metadata": {
        "id": "sK5gR8S7Ecle"
      },
      "outputs": [],
      "source": [
        "example_idx = 2132\n",
        "src = vars(valid_dt.examples[example_idx])['en']\n",
        "trg = vars(valid_dt.examples[example_idx])['fr']\n",
        "pred = translator(src, EN_FIELD, FR_FIELD, model, device)\n",
        "print(src)\n",
        "print(trg)\n",
        "print(pred)"
      ]
    },
    {
      "cell_type": "markdown",
      "metadata": {
        "id": "2_uEiN_p1ufE"
      },
      "source": [
        "### Translate by batch"
      ]
    },
    {
      "cell_type": "code",
      "execution_count": null,
      "metadata": {
        "colab": {
          "base_uri": "https://localhost:8080/"
        },
        "id": "FwABYGQpZoFf",
        "outputId": "82baf8b2-b248-4b7d-cfbc-3f92831f30f1"
      },
      "outputs": [
        {
          "name": "stdout",
          "output_type": "stream",
          "text": [
            "dict_keys(['en', 'fr', 'es', 'it', 'pt', 'ro'])\n",
            "tensor([7, 5, 9, 3], device='cuda:0')\n",
            "tensor([5, 5, 5, 5], device='cuda:0')\n"
          ]
        }
      ],
      "source": [
        "for batch in test_iterator: break\n",
        "\n",
        "print(batch.fields)\n",
        "print(batch.en[0].shape, batch.en[1].shape)\n",
        "print(batch.en[1])\n",
        "print(batch.fr[1])"
      ]
    },
    {
      "cell_type": "code",
      "execution_count": null,
      "metadata": {
        "id": "oIRZYHOsi0LU"
      },
      "outputs": [],
      "source": [
        "def translate_batch(model, iterator, trg_field, device, max_len):\n",
        "  model.eval()\n",
        "  with torch.no_grad():\n",
        "    gt_sents = []\n",
        "    pred_sents = []\n",
        "    for idx, batch in enumerate(tqdm(iterator)):\n",
        "      # get data\n",
        "      seq_len, N = batch.en[0].shape  # batch.en = (data, len)\n",
        "      src = batch.en\n",
        "      (trg_data, trg_len) = sent2tensor(EN_FIELD, FR_FIELD, device, max_len)\n",
        "      trg_datas = torch.cat([trg_data for _ in range(N)], dim=1)\n",
        "      trg_lens = torch.cat([trg_len for _ in range(N)], dim=0)\n",
        "      trg = (trg_datas, trg_lens)\n",
        "      if isinstance(model, Seq2Seq):\n",
        "        data = [src, trg]\n",
        "      elif isinstance(model, PivotSeq2Seq):\n",
        "        data = [src] + [trg for _ in range(model.num_model)]\n",
        "      elif isinstance(model, TriangSeq2Seq):\n",
        "        data = {'TRG': trg}\n",
        "        for i in range(model.num_model):\n",
        "          submodel = getattr(model, f'model_{i}')\n",
        "          if isinstance(submodel, Seq2Seq):\n",
        "            data[f'model_{i}'] = [src, trg]\n",
        "          elif isinstance(submodel, PivotSeq2Seq):\n",
        "            data[f'model_{i}'] = [src] + [trg for _ in range(submodel.num_model)]\n",
        "          else: raise Exception('Only support Seq2Seq & PivotSeq2Seq nested inside TriangSeq2Seq')\n",
        "      else: raise Exception('Model type is unknown')\n",
        "      # feed model\n",
        "      output = model(data, None, 0)\n",
        "      pred = output.argmax(-1).detach().cpu().numpy() # [seq_len, N]\n",
        "      truth = batch.fr[0].detach().cpu().numpy()  # [seq_len, N]\n",
        "\n",
        "      gt_sents = gt_sents + idx2sent(trg_field, truth)\n",
        "      pred_sents = pred_sents + idx2sent(trg_field, pred)\n",
        "    return gt_sents, pred_sents"
      ]
    },
    {
      "cell_type": "code",
      "execution_count": null,
      "metadata": {
        "colab": {
          "base_uri": "https://localhost:8080/"
        },
        "id": "7fhhvOpTkQkD",
        "outputId": "fb11c4ac-69a5-44ea-e037-639ab9d46a95"
      },
      "outputs": [
        {
          "name": "stderr",
          "output_type": "stream",
          "text": [
            "  1%|          | 10/1600 [00:04<13:09,  2.01it/s]\n"
          ]
        }
      ],
      "source": [
        "gt_sents, pred_sents = translate_batch(model, test_iterator, FR_FIELD, device, 64)"
      ]
    },
    {
      "cell_type": "code",
      "execution_count": null,
      "metadata": {
        "colab": {
          "base_uri": "https://localhost:8080/"
        },
        "id": "FKokrGMnlDp5",
        "outputId": "ac9950b3-37bd-4005-803f-429c2cafbacd"
      },
      "outputs": [
        {
          "name": "stdout",
          "output_type": "stream",
          "text": [
            "['il', 'faut', 'à', 'présent', 'de', 'bonnes', 'politiques', ',', 'par', 'un', 'effort', '<unk>', 'de', 'la', 'communauté', 'internationale', ',', 'afin', 'de', 'chercher', 'à', 'obtenir', 'libération', 'et', 'justice', 'pour', 'tous', 'ceux', 'qui', 'ont', 'été', 'si', '<unk>', 'touchés', '.']\n",
            "['les', 'politiques', 'devraient', 'être', 'développées', ',', 'un', 'effort', 'effort', 'pour', 'la', 'communauté', 'internationale', ',', 'pour', 'la', 'justice', 'et', 'tous', 'les', 'personnes', 'qui', 'ont', 'été', 'touchés', '.']\n",
            "\n",
            "[\"c'\", 'est', 'pourquoi', 'nous', 'devons', 'nous', 'battre', 'pour', 'défendre', 'cette', 'politique', ',', 'pour', 'défendre', 'son', 'budget', ',', 'pour', 'convaincre', 'les', 'états', 'que', 'la', 'politique', 'régionale', \"n'\", 'est', 'pas', 'un', '<unk>', 'mais', 'une', 'nécessité', '.']\n",
            "[\"c'\", 'est', 'pourquoi', 'nous', 'devons', 'lutter', 'défendre', 'cette', 'politique', ',', 'défendre', 'sa', 'budget', ',', 'pour', 'les', 'états', 'membres', 'que', 'la', 'politique', 'régionale', \"n'\", 'est', 'pas', 'nécessaire', 'nécessité', \"d'\", 'une', 'nécessité', 'nécessité', \"d'\", 'une', 'nécessité', \"d'\", 'une', 'nécessité', \"d'\", 'une', 'nécessité', \"d'\", 'une', 'nécessité', '.']\n",
            "\n",
            "['ceux', '-', 'ci', 'sont', 'également', 'compétents', 'et', 'responsables', 'de', 'la', 'sélection', 'et', 'de', 'la', 'mise', 'en', 'œuvre', 'des', 'projets', 'et', ',', 'enfin', ',', 'de', 'la', 'surveillance', ',', 'au', 'moins', 'dans', 'un', 'premier', 'temps', '.']\n",
            "['elles', 'sont', 'également', 'responsables', 'et', 'la', 'la', 'de', 'la', 'mise', 'en', 'œuvre', 'des', 'projets', 'et', ',', 'en', 'en', 'fin', 'de', 'compte', ',', 'au', 'au', 'moins', 'au', 'moins', 'au', 'moins', 'au', 'niveau', 'au', 'niveau', '.']\n",
            "\n",
            "['ce', 'qui', 'se', 'passe', 'en', 'grèce', 'pourrait', \"s'\", 'appliquer', 'un', 'jour', 'à', \"l'\", 'irlande', 'ou', 'au', 'portugal', ',', 'à', \"l'\", 'espagne', 'ou', 'à', 'la', 'belgique', ',', 'à', \"l'\", 'italie', 'ou', 'à', 'la', 'france', '.']\n",
            "['ce', 'qui', 'se', 'passe', 'actuellement', 'la', 'grèce', ',', \"c'\", 'est', 'une', 'ou', 'pour', 'ou', 'ou', 'ou', 'ou', 'ou', 'ou', 'france', 'ou', 'de', 'france', '.']\n",
            "\n"
          ]
        }
      ],
      "source": [
        "for i, (gt_sent, pred_sent) in enumerate(zip(gt_sents, pred_sents)):\n",
        "  print(gt_sent[:-1])\n",
        "  print(pred_sent[:-1])\n",
        "  print()\n",
        "  if i==3: break"
      ]
    },
    {
      "cell_type": "markdown",
      "metadata": {
        "id": "_gNHZNQk2e4M"
      },
      "source": [
        "## BLEU"
      ]
    },
    {
      "cell_type": "markdown",
      "metadata": {
        "id": "celagCJTtFd2"
      },
      "source": [
        "### Main"
      ]
    },
    {
      "cell_type": "code",
      "execution_count": null,
      "metadata": {
        "id": "bBSv6ECcbIpe"
      },
      "outputs": [],
      "source": [
        "def calculate_bleu_batch(translator, iterator, trg_field, model, device, max_len=64):\n",
        "  gt_sents, pred_sents = translator(model, iterator, trg_field, device, max_len)\n",
        "  pred_trgs = [pred_sent[:-1] for pred_sent in pred_sents]\n",
        "  trgs = [[gt_sent[:-1]] for gt_sent in gt_sents]\n",
        "  return pred_trgs, trgs\n",
        "\n",
        "def calculate_bleu_sent(translator, data, src_field, trg_field, model, device, max_len = 50):\n",
        "  trgs = []\n",
        "  pred_trgs = []\n",
        "  for i, datum in enumerate(tqdm(data)):\n",
        "    src = vars(datum)['en']\n",
        "    trg = vars(datum)['fr']\n",
        "    pred = translator(src, src_field, trg_field, model, device, max_len)\n",
        "    pred_trgs.append(pred[0][:-1])  #cut off <eos> token\n",
        "    trgs.append([trg])\n",
        "  return pred_trgs, trgs"
      ]
    },
    {
      "cell_type": "code",
      "execution_count": null,
      "metadata": {
        "id": "XxTAqzqz1LH_"
      },
      "outputs": [],
      "source": [
        "# pred_trgs, trgs = calculate_bleu_sent(translator, test_dt, EN_FIELD, FR_FIELD, model, device)\n",
        "# score = bleu_score(pred_trgs, trgs)\n",
        "# print(f'BLEU score = {score*100:.2f}')"
      ]
    },
    {
      "cell_type": "code",
      "execution_count": null,
      "metadata": {
        "colab": {
          "base_uri": "https://localhost:8080/"
        },
        "id": "UDzwuc3z2sDq",
        "outputId": "549db9ae-b5e8-4646-cc49-c843af20911b"
      },
      "outputs": [
        {
          "name": "stderr",
          "output_type": "stream",
          "text": [
            "100%|██████████| 6400/6400 [06:53<00:00, 15.47it/s]\n"
          ]
        },
        {
          "name": "stdout",
          "output_type": "stream",
          "text": [
            "en-fr\n",
            "BLEU score = 38.738\n"
          ]
        }
      ],
      "source": [
        "model.method = 'max'\n",
        "pred_trgs, trgs = calculate_bleu_sent(translate_sentence, test_dt, EN_FIELD, FR_FIELD, model.model_0, device)\n",
        "score = bleu_score(pred_trgs, trgs)\n",
        "print('en-fr')\n",
        "print(f'BLEU score = {score*100:.3f}')"
      ]
    },
    {
      "cell_type": "code",
      "execution_count": null,
      "metadata": {
        "colab": {
          "base_uri": "https://localhost:8080/"
        },
        "id": "i1G66Kc90FlS",
        "outputId": "3f4a0027-9fd9-4fb3-e9be-6523da33bbd8"
      },
      "outputs": [
        {
          "name": "stderr",
          "output_type": "stream",
          "text": [
            "100%|██████████| 6400/6400 [14:02<00:00,  7.60it/s]\n"
          ]
        },
        {
          "name": "stdout",
          "output_type": "stream",
          "text": [
            "en-es-fr\n",
            "BLEU score = 32.273\n"
          ]
        }
      ],
      "source": [
        "model.method = 'max'\n",
        "pred_trgs, trgs = calculate_bleu_sent(translate_sentence, test_dt, EN_FIELD, FR_FIELD, model.model_1, device)\n",
        "score = bleu_score(pred_trgs, trgs)\n",
        "print('en-es-fr')\n",
        "print(f'BLEU score = {score*100:.3f}')"
      ]
    },
    {
      "cell_type": "code",
      "execution_count": null,
      "metadata": {
        "colab": {
          "base_uri": "https://localhost:8080/"
        },
        "id": "iAS42sVr1Uxx",
        "outputId": "423f8c93-fdc3-4321-fead-862b6e71d48a"
      },
      "outputs": [
        {
          "name": "stdout",
          "output_type": "stream",
          "text": [
            "loaded model piv-EnItFr.pt\n"
          ]
        },
        {
          "name": "stderr",
          "output_type": "stream",
          "text": [
            "100%|██████████| 6400/6400 [14:00<00:00,  7.61it/s]\n"
          ]
        },
        {
          "name": "stdout",
          "output_type": "stream",
          "text": [
            "en-it-fr\n",
            "BLEU score = 31.369\n"
          ]
        }
      ],
      "source": [
        "lang = 'it'\n",
        "TMP_FIELD = FIELD_DICT[lang]\n",
        "\n",
        "SRC_PAD_IDX = EN_FIELD.vocab.stoi[EN_FIELD.pad_token]\n",
        "attn1 = Attention(cfg['HID_DIM'], cfg['HID_DIM'])\n",
        "enc1 = Encoder(cfg['en_DIM'], cfg['EMB_DIM'], cfg['HID_DIM'], cfg['HID_DIM'], cfg['DROPOUT'])\n",
        "dec1 = Decoder(cfg[f'{lang}_DIM'], cfg['EMB_DIM'], cfg['HID_DIM'], cfg['HID_DIM'], cfg['DROPOUT'], attn1)\n",
        "model1 = Seq2Seq(enc1, dec1, SRC_PAD_IDX, device).to(device)\n",
        "\n",
        "PIV_PAD_IDX = TMP_FIELD.vocab.stoi[TMP_FIELD.pad_token]\n",
        "attn2 = Attention(cfg['HID_DIM'], cfg['HID_DIM'])\n",
        "enc2 = Encoder(cfg[f'{lang}_DIM'], cfg['EMB_DIM'], cfg['HID_DIM'], cfg['HID_DIM'], cfg['DROPOUT'])\n",
        "dec2 = Decoder(cfg['fr_DIM'], cfg['EMB_DIM'], cfg['HID_DIM'], cfg['HID_DIM'], cfg['DROPOUT'], attn2)\n",
        "model2 = Seq2Seq(enc2, dec2, PIV_PAD_IDX, device).to(device)\n",
        "\n",
        "models = [model1, model2]\n",
        "fields = [EN_FIELD, TMP_FIELD, FR_FIELD]\n",
        "model_piv2 = PivotSeq2Seq(models, fields, device).to(device)\n",
        "modelname = f'piv-En{lang[0].upper()}{lang[1]}Fr.pt'\n",
        "model_piv2.load_state_dict(torch.load(f'{DIR_PATH}/{modelname}')['model_state_dict'])\n",
        "print(f'loaded model {modelname}')\n",
        "model.method = 'max'\n",
        "\n",
        "pred_trgs, trgs = calculate_bleu_sent(translate_sentence, test_dt, EN_FIELD, FR_FIELD, model_piv2, device)\n",
        "score = bleu_score(pred_trgs, trgs)\n",
        "print(f'en-{lang}-fr')\n",
        "print(f'BLEU score = {score*100:.3f}')"
      ]
    },
    {
      "cell_type": "code",
      "execution_count": null,
      "metadata": {
        "colab": {
          "base_uri": "https://localhost:8080/"
        },
        "id": "TlrzHG46fHjG",
        "outputId": "9d74a481-cdfa-4724-83ae-f602942eee9d"
      },
      "outputs": [
        {
          "name": "stderr",
          "output_type": "stream",
          "text": [
            "100%|██████████| 800/800 [04:42<00:00,  2.84it/s]\n"
          ]
        },
        {
          "name": "stdout",
          "output_type": "stream",
          "text": [
            "BLEU score = 33.698\n"
          ]
        }
      ],
      "source": [
        "# model.method = 'max'\n",
        "# pred_trgs, trgs = calculate_bleu_batch(translate_batch, test_iterator, FR_FIELD, model, device)\n",
        "# score = bleu_score(pred_trgs, trgs)\n",
        "# print(f'BLEU score = {score*100:.3f}')"
      ]
    },
    {
      "cell_type": "code",
      "execution_count": null,
      "metadata": {
        "id": "qaNNsBEvdPix"
      },
      "outputs": [],
      "source": [
        "# model.method = 'average'\n",
        "# pred_trgs, trgs = calculate_bleu_batch(translate_batch, test_iterator, FR_FIELD, model, device)\n",
        "# score = bleu_score(pred_trgs, trgs)\n",
        "# print(f'BLEU score = {score*100:.3f}')"
      ]
    },
    {
      "cell_type": "markdown",
      "metadata": {
        "id": "LcU3uVKbtI4X"
      },
      "source": [
        "### Result"
      ]
    },
    {
      "cell_type": "markdown",
      "metadata": {
        "id": "cui8pV4FBbx_"
      },
      "source": [
        "1. seq2seq-EnFr-1.pt: BLEU = 38.74\n",
        "1. piv_EnItFr.pt: BLEU = 31.37\n",
        "1. triang-EnFr-EnItFr.pt: BLEU = 31.95\n",
        "  * dir-EnFr: BLEU = 38.03\n",
        "  * piv-EnItFr: BLEU = 24.62\n",
        "1. triang-EnFr-EnEsFr-1.pt: BLEU = 30.57 (weight_1)\n",
        "1. Prof Neller's suggestion (max selection):\n",
        "  * triang(EnFr + EnEsFr) BLEU = 37.80\n",
        "  * triang(EnFr + EnEsFr) BLEU = 38.81 (2nd run)\n",
        "  * triang(EnEsFr + EnItFr) BLEU = 33.698 (2nd run, 1st run got 36.25)\n",
        "1. Paper averaging output (\"Late Averaging\"):\n",
        "  * triang(EnFr + EnEsFr) BLEU = 28.25\n",
        "  * triang(EnEsFr + EnItFr) BLEU = 25.749"
      ]
    },
    {
      "cell_type": "markdown",
      "metadata": {
        "id": "vIw-3jBB42zA"
      },
      "source": [
        "* attn_en-fr_32k.pt: BLEU = 12.65\n",
        "* attn_enfr_160kset.pt: BLEU = 32.18\n",
        "* piv_endefr_74kset_2.pt: BLEU = 26.33\n"
      ]
    },
    {
      "cell_type": "markdown",
      "metadata": {
        "id": "_0vl6ryRfWl9"
      },
      "source": [
        "# End"
      ]
    }
  ],
  "metadata": {
    "accelerator": "GPU",
    "colab": {
      "collapsed_sections": [
        "DEdOoJ93e008",
        "f_Qg27JlTHS1",
        "jopehmrVTRSm",
        "limqRnayUnj5",
        "vJm8VpgbUsbK",
        "7M3M0cKNUsfb",
        "WwSO5W3KUsjX",
        "fdjE61pw7CBy",
        "KgwBXdjq3IkB",
        "H9Z6RxOnzLa9",
        "Jfky7439zNhN",
        "ARfI-GykzP9L",
        "VKGgTuL4tThr",
        "TmXsuwuctVw7",
        "ifgtDQwvtRcw",
        "ZhCTMvF2tbQs",
        "jRFofx7s1jJa",
        "_3qwJt8Q1qN1",
        "2_uEiN_p1ufE",
        "_gNHZNQk2e4M"
      ],
      "provenance": []
    },
    "gpuClass": "standard",
    "kernelspec": {
      "display_name": "Python 3",
      "name": "python3"
    },
    "language_info": {
      "codemirror_mode": {
        "name": "ipython",
        "version": 3
      },
      "file_extension": ".py",
      "mimetype": "text/x-python",
      "name": "python",
      "nbconvert_exporter": "python",
      "pygments_lexer": "ipython3",
      "version": "3.8.17"
    }
  },
  "nbformat": 4,
  "nbformat_minor": 0
}
